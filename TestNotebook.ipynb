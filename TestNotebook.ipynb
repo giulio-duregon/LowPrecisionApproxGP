{
   "cells": [
      {
         "cell_type": "code",
         "execution_count": null,
         "metadata": {
            "pycharm": {
               "name": "#%%\n"
            }
         },
         "outputs": [],
         "source": [
            "from LowPrecisionApproxGP.model.inducing_point_kernel import VarPrecisionInducingPointKernel\n",
            "import gpytorch\n",
            "from gpytorch.kernels.inducing_point_kernel import InducingPointKernel\n",
            "import torch\n",
            "from LowPrecisionApproxGP.util.GreedyTrain import greedy_train\n",
            "from LowPrecisionApproxGP.model.models import VarPrecisionModel\n",
            "from LowPrecisionApproxGP import load_bikes, load_road3d"
         ]
      },
      {
         "cell_type": "code",
         "execution_count": null,
         "metadata": {
            "pycharm": {
               "name": "#%%\n"
            }
         },
         "outputs": [],
         "source": [
            "# Define Model\n",
            "class ExactGPModel(gpytorch.models.ExactGP):\n",
            "    def __init__(self, train_x, train_y, likelihood):\n",
            "        super(ExactGPModel, self).__init__(train_x, train_y, likelihood)\n",
            "        self.mean_module = gpytorch.means.ConstantMean()\n",
            "        self.covar_module = gpytorch.kernels.ScaleKernel(gpytorch.kernels.RBFKernel())\n",
            "\n",
            "    def forward(self, x):\n",
            "        mean_x = self.mean_module(x)\n",
            "        covar_x = self.covar_module(x)\n",
            "        return gpytorch.distributions.MultivariateNormal(mean_x, covar_x)\n",
            "\n"
         ]
      },
      {
         "cell_type": "code",
         "execution_count": null,
         "metadata": {
            "pycharm": {
               "name": "#%%\n"
            }
         },
         "outputs": [],
         "source": [
            "# dtype = torch.float32\n",
            "# train_x, train_y = train_x.to(dtype), train_y.to(dtype)\n",
            "# # Create Likelihood / Model\n",
            "# likelihood = gpytorch.likelihoods.GaussianLikelihood()\n",
            "# model = ExactGPModel(train_x, train_y, likelihood, dtype)\n",
            "# mll = gpytorch.mlls.ExactMarginalLogLikelihood(likelihood,model)\n",
            "\n",
            "# # Set to training mode\n",
            "# model.train()\n",
            "# likelihood.train()\n",
            "\n",
            "# # Use the adam optimizer\n",
            "# optimizer = torch.optim.Adam(model.parameters(), lr=0.1)  # Includes GaussianLikelihood parameters\n",
            "# # Train Model\n",
            "# model = greedy_train((train_x,train_y), model, mll,max_inducing_points,training_iter,dtype=dtype,Use_Max=True,J=20,max_Js=100)"
         ]
      },
      {
         "cell_type": "code",
         "execution_count": null,
         "metadata": {},
         "outputs": [],
         "source": [
            "train, test = load_bikes()\n",
            "train_x, train_y = train\n",
            "# # Create Likelihood / Model\n",
            "likelihood = gpytorch.likelihoods.GaussianLikelihood()\n",
            "model = ExactGPModel(train_x, train_y, likelihood)\n",
            "mll = gpytorch.mlls.ExactMarginalLogLikelihood(likelihood,model)\n",
            "\n",
            "# Set to training mode\n",
            "model.train()\n",
            "likelihood.train()\n",
            "\n",
            "# Use the adam optimizer\n",
            "optimizer = torch.optim.Adam(model.parameters(), lr=0.1)  # Includes GaussianLikelihood parameters\n",
            "# Train Model\n"
         ]
      }
   ],
   "metadata": {
      "interpreter": {
         "hash": "38cca0c38332a56087b24af0bc80247f4fced29cb4f7f437d91dc159adec9c4e"
      },
      "kernelspec": {
         "display_name": "Python 3 (ipykernel)",
         "language": "python",
         "name": "python3"
      },
      "language_info": {
         "codemirror_mode": {
            "name": "ipython",
            "version": 3
         },
         "file_extension": ".py",
         "mimetype": "text/x-python",
         "name": "python",
         "nbconvert_exporter": "python",
         "pygments_lexer": "ipython3",
         "version": "3.9.13"
      }
   },
   "nbformat": 4,
   "nbformat_minor": 2
}
