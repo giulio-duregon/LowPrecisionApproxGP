{
   "cells": [
      {
         "cell_type": "code",
         "execution_count": 1,
         "metadata": {
            "pycharm": {
               "name": "#%%\n"
            }
         },
         "outputs": [],
         "source": [
            "from LowPrecisionApproxGP.model.inducing_point_kernel import VarPrecisionInducingPointKernel\n",
            "import gpytorch\n",
            "# from gpytorch.kernels.inducing_point_kernel import InducingPointKernel\n",
            "import torch\n",
            "from LowPrecisionApproxGP.util.GreedyTrain import greedy_train"
         ]
      },
      {
         "cell_type": "code",
         "execution_count": 2,
         "metadata": {
            "pycharm": {
               "name": "#%%\n"
            }
         },
         "outputs": [],
         "source": [
            "# Define Model\n",
            "class ExactGPModel(gpytorch.models.ExactGP):\n",
            "    def __init__(self, train_x, train_y, likelihood, dtype):\n",
            "        self._dtype_to_set = dtype\n",
            "        super(ExactGPModel, self).__init__(train_x, train_y, likelihood)\n",
            "        self.mean_module = gpytorch.means.ConstantMean()\n",
            "        self.covar_module = VarPrecisionInducingPointKernel(\n",
            "            gpytorch.kernels.ScaleKernel(gpytorch.kernels.RBFKernel()), inducing_points=torch.empty(1), likelihood=likelihood, dtype=self._dtype_to_set)\n",
            "\n",
            "    def forward(self, x):\n",
            "        mean_x = self.mean_module(x)\n",
            "        covar_x = self.covar_module(x)\n",
            "        return gpytorch.distributions.MultivariateNormal(mean_x, covar_x)\n",
            "\n"
         ]
      },
      {
         "cell_type": "code",
         "execution_count": 3,
         "metadata": {
            "pycharm": {
               "name": "#%%\n"
            }
         },
         "outputs": [],
         "source": [
            "import math\n",
            "# Create / Reshape Data\n",
            "train_x = torch.linspace(0, 1, 100).reshape(-1,1)\n",
            "train_y = torch.sin(train_x * (2 * math.pi)) + torch.randn(train_x.size()) * math.sqrt(0.04)\n",
            "train_y = train_y.reshape(-1,1)\n",
            "\n",
            "# Set up inducing point variables\n",
            "inducing_point_candidates = train_x.detach().clone()\n",
            "training_iter = 1000\n",
            "max_inducing_points = 1000"
         ]
      },
      {
         "cell_type": "code",
         "execution_count": 6,
         "metadata": {
            "pycharm": {
               "name": "#%%\n"
            }
         },
         "outputs": [
            {
               "name": "stdout",
               "output_type": "stream",
               "text": [
                  "tensor(-77.9835)\n",
                  "tensor(-75.0904)\n",
                  "tensor(-75.0904)\n",
                  "tensor(-75.0023)\n",
                  "tensor(-75.0023)\n",
                  "tensor(-75.0023)\n",
                  "tensor(-75.0023)\n",
                  "tensor(-75.0023)\n",
                  "tensor(-75.0023)\n",
                  "tensor(-75.0023)\n",
                  "tensor(-75.0023)\n",
                  "tensor(-75.0023)\n",
                  "tensor(-75.0023)\n",
                  "tensor(-74.8748)\n",
                  "tensor(-74.7962)\n",
                  "tensor(-74.7962)\n",
                  "tensor(-74.7962)\n",
                  "tensor(-74.7962)\n",
                  "tensor(-74.7962)\n",
                  "tensor(-74.7962)\n",
                  "tensor(-70.6716)\n",
                  "tensor(-70.6551)\n",
                  "tensor(-70.6551)\n",
                  "tensor(-70.6429)\n",
                  "tensor(-70.6424)\n",
                  "tensor(-70.6424)\n",
                  "tensor(-70.6424)\n",
                  "tensor(-70.6424)\n",
                  "tensor(-70.6424)\n",
                  "tensor(-70.6424)\n",
                  "tensor(-70.6424)\n",
                  "tensor(-70.6424)\n",
                  "tensor(-70.6424)\n",
                  "tensor(-70.6424)\n",
                  "tensor(-70.6424)\n",
                  "tensor(-70.6424)\n",
                  "tensor(-70.6424)\n",
                  "tensor(-70.6424)\n",
                  "tensor(-70.6424)\n",
                  "tensor(-70.6424)\n",
                  "tensor(-66.8670)\n",
                  "tensor(-66.8669)\n",
                  "tensor(-66.8668)\n",
                  "tensor(-66.8668)\n",
                  "tensor(-66.8666)\n",
                  "tensor(-66.8666)\n",
                  "tensor(-66.8666)\n",
                  "tensor(-66.8665)\n",
                  "tensor(-66.8665)\n",
                  "tensor(-66.8665)\n",
                  "tensor(-66.8665)\n",
                  "tensor(-66.8665)\n",
                  "tensor(-66.8665)\n",
                  "tensor(-66.8665)\n",
                  "tensor(-66.8665)\n",
                  "tensor(-66.8665)\n",
                  "tensor(-66.8665)\n",
                  "tensor(-66.8665)\n",
                  "tensor(-66.8665)\n",
                  "tensor(-66.8665)\n",
                  "tensor(-63.0140)\n",
                  "tensor(-63.0140)\n",
                  "tensor(-63.0140)\n",
                  "tensor(-63.0140)\n",
                  "tensor(-63.0140)\n",
                  "tensor(-63.0140)\n",
                  "tensor(-63.0140)\n",
                  "tensor(-63.0140)\n",
                  "tensor(-63.0140)\n",
                  "tensor(-63.0140)\n",
                  "tensor(-63.0140)\n",
                  "tensor(-63.0140)\n",
                  "tensor(-63.0140)\n",
                  "tensor(-63.0140)\n",
                  "tensor(-63.0140)\n",
                  "tensor(-63.0140)\n",
                  "tensor(-63.0140)\n",
                  "tensor(-63.0140)\n",
                  "tensor(-63.0140)\n",
                  "tensor(-63.0140)\n",
                  "tensor(-59.0873)\n",
                  "tensor(-59.0873)\n",
                  "tensor(-59.0873)\n",
                  "tensor(-59.0873)\n",
                  "tensor(-59.0873)\n",
                  "tensor(-59.0873)\n",
                  "tensor(-59.0873)\n",
                  "tensor(-59.0873)\n",
                  "tensor(-59.0873)\n",
                  "tensor(-59.0873)\n",
                  "tensor(-59.0873)\n",
                  "tensor(-59.0873)\n",
                  "tensor(-59.0873)\n",
                  "tensor(-59.0873)\n",
                  "tensor(-59.0872)\n",
                  "tensor(-59.0872)\n",
                  "tensor(-59.0872)\n",
                  "tensor(-59.0872)\n",
                  "tensor(-59.0872)\n",
                  "tensor(-59.0872)\n",
                  "tensor(-55.0842)\n",
                  "tensor(-55.0842)\n",
                  "tensor(-55.0842)\n",
                  "tensor(-55.0842)\n",
                  "tensor(-55.0832)\n",
                  "tensor(-55.0832)\n",
                  "tensor(-55.0832)\n",
                  "tensor(-55.0832)\n",
                  "tensor(-55.0832)\n",
                  "tensor(-55.0832)\n",
                  "tensor(-55.0832)\n",
                  "tensor(-55.0832)\n",
                  "tensor(-55.0832)\n",
                  "tensor(-55.0832)\n",
                  "tensor(-55.0832)\n",
                  "tensor(-55.0832)\n",
                  "tensor(-55.0832)\n",
                  "tensor(-55.0832)\n",
                  "tensor(-55.0832)\n",
                  "tensor(-55.0832)\n"
               ]
            },
            {
               "name": "stderr",
               "output_type": "stream",
               "text": [
                  "/opt/homebrew/anaconda3/lib/python3.9/site-packages/linear_operator/utils/cholesky.py:40: NumericalWarning: A not p.d., added jitter of 1.0e-06 to the diagonal\n",
                  "  warnings.warn(\n"
               ]
            },
            {
               "name": "stdout",
               "output_type": "stream",
               "text": [
                  "tensor(-51.0052)\n",
                  "tensor(-51.0050)\n",
                  "tensor(-51.0050)\n",
                  "tensor(-51.0050)\n",
                  "tensor(-51.0050)\n",
                  "tensor(-51.0050)\n",
                  "tensor(-51.0050)\n",
                  "tensor(-51.0050)\n",
                  "tensor(-51.0050)\n",
                  "tensor(-51.0050)\n",
                  "tensor(-51.0050)\n",
                  "tensor(-51.0050)\n",
                  "tensor(-51.0050)\n",
                  "tensor(-51.0050)\n",
                  "tensor(-51.0050)\n",
                  "tensor(-51.0050)\n",
                  "tensor(-51.0050)\n",
                  "tensor(-51.0050)\n",
                  "tensor(-51.0050)\n",
                  "tensor(-51.0050)\n",
                  "tensor(-46.8537)\n",
                  "tensor(-46.8537)\n",
                  "tensor(-46.8537)\n",
                  "tensor(-46.8537)\n",
                  "tensor(-46.8537)\n",
                  "tensor(-46.8537)\n",
                  "tensor(-46.8537)\n",
                  "tensor(-46.8537)\n",
                  "tensor(-46.8537)\n",
                  "tensor(-46.8537)\n",
                  "tensor(-46.8537)\n",
                  "tensor(-46.8537)\n",
                  "tensor(-46.8537)\n",
                  "tensor(-46.8537)\n",
                  "tensor(-46.8537)\n",
                  "tensor(-46.8536)\n",
                  "tensor(-46.8536)\n",
                  "tensor(-46.8536)\n",
                  "tensor(-46.8536)\n",
                  "tensor(-46.8536)\n",
                  "tensor(-42.6297)\n",
                  "tensor(-42.6297)\n",
                  "tensor(-42.6297)\n",
                  "tensor(-42.6297)\n",
                  "tensor(-42.6297)\n",
                  "tensor(-42.6297)\n",
                  "tensor(-42.6297)\n",
                  "tensor(-42.6297)\n",
                  "tensor(-42.6297)\n",
                  "tensor(-42.6297)\n",
                  "tensor(-42.6297)\n",
                  "tensor(-42.6297)\n",
                  "tensor(-42.6297)\n",
                  "tensor(-42.6297)\n",
                  "tensor(-42.6297)\n",
                  "tensor(-42.6297)\n",
                  "tensor(-42.6297)\n",
                  "tensor(-42.6297)\n",
                  "tensor(-42.6297)\n",
                  "tensor(-42.6297)\n",
                  "tensor(-38.3357)\n",
                  "tensor(-38.3356)\n",
                  "tensor(-38.3356)\n",
                  "tensor(-38.3356)\n",
                  "tensor(-38.3356)\n",
                  "tensor(-38.3356)\n",
                  "tensor(-38.3356)\n",
                  "tensor(-38.3356)\n",
                  "tensor(-38.3356)\n",
                  "tensor(-38.3356)\n",
                  "tensor(-38.3356)\n",
                  "tensor(-38.3356)\n",
                  "tensor(-38.3356)\n",
                  "tensor(-38.3356)\n",
                  "tensor(-38.3356)\n",
                  "tensor(-38.3356)\n",
                  "tensor(-38.3356)\n",
                  "tensor(-38.3356)\n",
                  "tensor(-38.3356)\n",
                  "tensor(-38.3356)\n",
                  "tensor(-33.9758)\n",
                  "tensor(-33.9758)\n",
                  "tensor(-33.9758)\n",
                  "tensor(-33.9758)\n",
                  "tensor(-33.9758)\n",
                  "tensor(-33.9758)\n",
                  "tensor(-33.9758)\n",
                  "tensor(-33.9758)\n",
                  "tensor(-33.9758)\n",
                  "tensor(-33.9758)\n",
                  "tensor(-33.9758)\n",
                  "tensor(-33.9758)\n",
                  "tensor(-33.9758)\n",
                  "tensor(-33.9758)\n",
                  "tensor(-33.9758)\n",
                  "tensor(-33.9758)\n",
                  "tensor(-33.9758)\n",
                  "tensor(-33.9758)\n",
                  "tensor(-33.9758)\n",
                  "tensor(-33.9758)\n"
               ]
            }
         ],
         "source": [
            "dtype = torch.float32\n",
            "# Create Likelihood / Model\n",
            "likelihood = gpytorch.likelihoods.GaussianLikelihood()\n",
            "model = ExactGPModel(train_x, train_y, likelihood, dtype)\n",
            "mll = gpytorch.mlls.ExactMarginalLogLikelihood(likelihood,model)\n",
            "\n",
            "# Set to training mode\n",
            "model.train()\n",
            "likelihood.train()\n",
            "\n",
            "# Use the adam optimizer\n",
            "optimizer = torch.optim.Adam(model.parameters(), lr=0.1)  # Includes GaussianLikelihood parameters\n",
            "# Train Model\n",
            "model = greedy_train((train_x,train_y), model, mll,max_inducing_points,training_iter,dtype=dtype,Use_Max=True,J=20,max_Js=10)"
         ]
      },
      {
         "cell_type": "code",
         "execution_count": 7,
         "metadata": {
            "pycharm": {
               "name": "#%%\n"
            }
         },
         "outputs": [
            {
               "data": {
                  "text/plain": [
                     "torch.float32"
                  ]
               },
               "execution_count": 7,
               "metadata": {},
               "output_type": "execute_result"
            }
         ],
         "source": [
            "model.covar_module.inducing_points.dtype"
         ]
      },
      {
         "cell_type": "code",
         "execution_count": 8,
         "metadata": {
            "pycharm": {
               "is_executing": true,
               "name": "#%%\n"
            }
         },
         "outputs": [
            {
               "data": {
                  "text/plain": [
                     "[<matplotlib.lines.Line2D at 0x127e5bdc0>]"
                  ]
               },
               "execution_count": 8,
               "metadata": {},
               "output_type": "execute_result"
            },
            {
               "data": {
                  "image/png": "[encoded data removed]",
                  "text/plain": [
                     "<Figure size 640x480 with 1 Axes>"
                  ]
               },
               "metadata": {},
               "output_type": "display_data"
            }
         ],
         "source": [
            "import matplotlib.pyplot as plt\n",
            "\n",
            "plt.plot(train_x.numpy(),train_y.numpy())"
         ]
      },
      {
         "cell_type": "code",
         "execution_count": 5,
         "metadata": {
            "pycharm": {
               "name": "#%%\n"
            }
         },
         "outputs": [
            {
               "data": {
                  "text/plain": [
                     "False"
                  ]
               },
               "execution_count": 5,
               "metadata": {},
               "output_type": "execute_result"
            }
         ],
         "source": [
            "torch.cuda.is_available()"
         ]
      },
      {
         "cell_type": "code",
         "execution_count": null,
         "metadata": {
            "pycharm": {
               "name": "#%%\n"
            }
         },
         "outputs": [],
         "source": []
      },
      {
         "cell_type": "code",
         "execution_count": null,
         "metadata": {
            "pycharm": {
               "name": "#%%\n"
            }
         },
         "outputs": [],
         "source": []
      }
   ],
   "metadata": {
      "interpreter": {
         "hash": "38cca0c38332a56087b24af0bc80247f4fced29cb4f7f437d91dc159adec9c4e"
      },
      "kernelspec": {
         "display_name": "Python 3 (ipykernel)",
         "language": "python",
         "name": "python3"
      },
      "language_info": {
         "codemirror_mode": {
            "name": "ipython",
            "version": 3
         },
         "file_extension": ".py",
         "mimetype": "text/x-python",
         "name": "python",
         "nbconvert_exporter": "python",
         "pygments_lexer": "ipython3",
         "version": "3.9.13"
      }
   },
   "nbformat": 4,
   "nbformat_minor": 2
}
