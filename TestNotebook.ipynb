{
 "cells": [
  {
   "cell_type": "code",
   "execution_count": 2,
   "metadata": {
    "pycharm": {
     "name": "#%%\n"
    }
<<<<<<< HEAD
   },
=======
   ],
   "source": [
    "%env EXPERIMENT_OUTPUTS=\"/Users/giulio/LowPrecisionApproxGP/Experiments\""
   ]
  },
  {
   "cell_type": "code",
   "execution_count": 2,
   "metadata": {},
>>>>>>> 04118e8 (Working on things)
   "outputs": [],
   "source": [
    "from LowPrecisionApproxGP.model.inducing_point_kernel import VarPrecisionInducingPointKernel\n",
    "import gpytorch\n",
    "# from gpytorch.kernels.inducing_point_kernel import InducingPointKernel\n",
    "import torch\n",
    "from LowPrecisionApproxGP.util.GreedyTrain import greedy_train"
   ]
  },
  {
   "cell_type": "code",
<<<<<<< HEAD
   "execution_count": 2,
   "metadata": {
    "pycharm": {
     "name": "#%%\n"
    }
   },
=======
   "execution_count": 3,
   "metadata": {},
>>>>>>> 04118e8 (Working on things)
   "outputs": [],
   "source": [
    "# Define Model\n",
    "class ExactGPModel(gpytorch.models.ExactGP):\n",
    "    def __init__(self, train_x, train_y, likelihood, dtype):\n",
    "        self._dtype_to_set = dtype\n",
    "        super(ExactGPModel, self).__init__(train_x, train_y, likelihood)\n",
    "        self.mean_module = gpytorch.means.ConstantMean()\n",
    "        self.covar_module = VarPrecisionInducingPointKernel(\n",
    "            gpytorch.kernels.ScaleKernel(gpytorch.kernels.RBFKernel()), inducing_points=torch.empty(1), likelihood=likelihood, dtype=self._dtype_to_set)\n",
    "\n",
    "    def forward(self, x):\n",
    "        mean_x = self.mean_module(x)\n",
    "        covar_x = self.covar_module(x)\n",
    "        return gpytorch.distributions.MultivariateNormal(mean_x, covar_x)\n",
    "\n"
   ]
  },
  {
   "cell_type": "code",
<<<<<<< HEAD
   "execution_count": 3,
   "metadata": {
    "pycharm": {
     "name": "#%%\n"
    }
   },
=======
   "execution_count": 4,
   "metadata": {},
>>>>>>> 04118e8 (Working on things)
   "outputs": [],
   "source": [
    "import math\n",
    "# Create / Reshape Data\n",
    "train_x = torch.linspace(0, 1, 100).reshape(-1,1)\n",
    "train_y = torch.sin(train_x * (2 * math.pi)) + torch.randn(train_x.size()) * math.sqrt(0.04)\n",
    "train_y = train_y.reshape(-1,1)\n",
    "\n",
    "# Set up inducing point variables\n",
    "inducing_point_candidates = train_x.detach().clone()\n",
    "training_iter = 1000\n",
    "max_inducing_points = 1000"
   ]
  },
  {
   "cell_type": "code",
<<<<<<< HEAD
   "execution_count": 1,
   "metadata": {
    "pycharm": {
     "name": "#%%\n"
    }
   },
   "outputs": [
    {
     "ename": "NameError",
     "evalue": "name 'gpytorch' is not defined",
     "output_type": "error",
     "traceback": [
      "\u001B[1;31m---------------------------------------------------------------------------\u001B[0m",
      "\u001B[1;31mNameError\u001B[0m                                 Traceback (most recent call last)",
      "\u001B[1;32m~\\AppData\\Local\\Temp\\ipykernel_27428\\631100716.py\u001B[0m in \u001B[0;36m<module>\u001B[1;34m\u001B[0m\n\u001B[0;32m      1\u001B[0m \u001B[1;31m# Create Likelihood / Model\u001B[0m\u001B[1;33m\u001B[0m\u001B[1;33m\u001B[0m\u001B[0m\n\u001B[1;32m----> 2\u001B[1;33m \u001B[0mlikelihood\u001B[0m \u001B[1;33m=\u001B[0m \u001B[0mgpytorch\u001B[0m\u001B[1;33m.\u001B[0m\u001B[0mlikelihoods\u001B[0m\u001B[1;33m.\u001B[0m\u001B[0mGaussianLikelihood\u001B[0m\u001B[1;33m(\u001B[0m\u001B[1;33m)\u001B[0m\u001B[1;33m\u001B[0m\u001B[1;33m\u001B[0m\u001B[0m\n\u001B[0m\u001B[0;32m      3\u001B[0m \u001B[0mmodel\u001B[0m \u001B[1;33m=\u001B[0m \u001B[0mExactGPModel\u001B[0m\u001B[1;33m(\u001B[0m\u001B[0mtrain_x\u001B[0m\u001B[1;33m,\u001B[0m \u001B[0mtrain_y\u001B[0m\u001B[1;33m,\u001B[0m \u001B[0mlikelihood\u001B[0m\u001B[1;33m)\u001B[0m\u001B[1;33m\u001B[0m\u001B[1;33m\u001B[0m\u001B[0m\n\u001B[0;32m      4\u001B[0m \u001B[0mmll\u001B[0m \u001B[1;33m=\u001B[0m \u001B[0mgpytorch\u001B[0m\u001B[1;33m.\u001B[0m\u001B[0mmlls\u001B[0m\u001B[1;33m.\u001B[0m\u001B[0mExactMarginalLogLikelihood\u001B[0m\u001B[1;33m(\u001B[0m\u001B[0mlikelihood\u001B[0m\u001B[1;33m,\u001B[0m\u001B[0mmodel\u001B[0m\u001B[1;33m)\u001B[0m\u001B[1;33m\u001B[0m\u001B[1;33m\u001B[0m\u001B[0m\n\u001B[0;32m      5\u001B[0m \u001B[1;33m\u001B[0m\u001B[0m\n",
      "\u001B[1;31mNameError\u001B[0m: name 'gpytorch' is not defined"
=======
   "execution_count": 5,
   "metadata": {},
   "outputs": [
    {
     "ename": "RuntimeError",
     "evalue": "expected scalar type Double but found Float",
     "output_type": "error",
     "traceback": [
      "\u001b[0;31m---------------------------------------------------------------------------\u001b[0m",
      "\u001b[0;31mRuntimeError\u001b[0m                              Traceback (most recent call last)",
      "\u001b[1;32m/Users/giulio/LowPrecisionApproxGP/TestNotebook.ipynb Cell 5'\u001b[0m in \u001b[0;36m<cell line: 14>\u001b[0;34m()\u001b[0m\n\u001b[1;32m     <a href='vscode-notebook-cell:/Users/giulio/LowPrecisionApproxGP/TestNotebook.ipynb#ch0000004?line=11'>12</a>\u001b[0m optimizer \u001b[39m=\u001b[39m torch\u001b[39m.\u001b[39moptim\u001b[39m.\u001b[39mAdam(model\u001b[39m.\u001b[39mparameters(), lr\u001b[39m=\u001b[39m\u001b[39m0.1\u001b[39m)  \u001b[39m# Includes GaussianLikelihood parameters\u001b[39;00m\n\u001b[1;32m     <a href='vscode-notebook-cell:/Users/giulio/LowPrecisionApproxGP/TestNotebook.ipynb#ch0000004?line=12'>13</a>\u001b[0m \u001b[39m# Train Model\u001b[39;00m\n\u001b[0;32m---> <a href='vscode-notebook-cell:/Users/giulio/LowPrecisionApproxGP/TestNotebook.ipynb#ch0000004?line=13'>14</a>\u001b[0m model \u001b[39m=\u001b[39m greedy_train((train_x,train_y), model, mll,max_inducing_points,training_iter)\n",
      "File \u001b[0;32m~/LowPrecisionApproxGP/LowPrecisionApproxGP/util/GreedyTrain.py:101\u001b[0m, in \u001b[0;36mgreedy_train\u001b[0;34m(train_data, model, mll, max_iter, max_inducing_points, model_name, dtype)\u001b[0m\n\u001b[1;32m     <a href='file:///Users/giulio/LowPrecisionApproxGP/LowPrecisionApproxGP/util/GreedyTrain.py?line=98'>99</a>\u001b[0m output \u001b[39m=\u001b[39m model(train_x)\n\u001b[1;32m    <a href='file:///Users/giulio/LowPrecisionApproxGP/LowPrecisionApproxGP/util/GreedyTrain.py?line=99'>100</a>\u001b[0m \u001b[39m# Calc average loss and backprop gradients\u001b[39;00m\n\u001b[0;32m--> <a href='file:///Users/giulio/LowPrecisionApproxGP/LowPrecisionApproxGP/util/GreedyTrain.py?line=100'>101</a>\u001b[0m loss \u001b[39m=\u001b[39m \u001b[39m-\u001b[39mmll(output, train_y)\n\u001b[1;32m    <a href='file:///Users/giulio/LowPrecisionApproxGP/LowPrecisionApproxGP/util/GreedyTrain.py?line=101'>102</a>\u001b[0m loss\u001b[39m.\u001b[39mmean()\u001b[39m.\u001b[39mbackward()\n\u001b[1;32m    <a href='file:///Users/giulio/LowPrecisionApproxGP/LowPrecisionApproxGP/util/GreedyTrain.py?line=103'>104</a>\u001b[0m logging\u001b[39m.\u001b[39minfo(\n\u001b[1;32m    <a href='file:///Users/giulio/LowPrecisionApproxGP/LowPrecisionApproxGP/util/GreedyTrain.py?line=104'>105</a>\u001b[0m     \u001b[39mf\u001b[39m\u001b[39m\"\u001b[39m\u001b[39mModel : \u001b[39m\u001b[39m{\u001b[39;00mmodel_name\u001b[39m}\u001b[39;00m\u001b[39m, Message : Iteration: \u001b[39m\u001b[39m{\u001b[39;00mi\u001b[39m+\u001b[39m\u001b[39m1\u001b[39m\u001b[39m}\u001b[39;00m\u001b[39m/\u001b[39m\u001b[39m{\u001b[39;00mmax_iter\u001b[39m}\u001b[39;00m\u001b[39m - Average Loss: \u001b[39m\u001b[39m{\u001b[39;00mloss\u001b[39m.\u001b[39mmean()\u001b[39m.\u001b[39mitem()\u001b[39m}\u001b[39;00m\u001b[39m\"\u001b[39m\n\u001b[1;32m    <a href='file:///Users/giulio/LowPrecisionApproxGP/LowPrecisionApproxGP/util/GreedyTrain.py?line=105'>106</a>\u001b[0m )\n",
      "File \u001b[0;32m/opt/homebrew/anaconda3/lib/python3.9/site-packages/gpytorch/module.py:30\u001b[0m, in \u001b[0;36mModule.__call__\u001b[0;34m(self, *inputs, **kwargs)\u001b[0m\n\u001b[1;32m     <a href='file:///opt/homebrew/anaconda3/lib/python3.9/site-packages/gpytorch/module.py?line=28'>29</a>\u001b[0m \u001b[39mdef\u001b[39;00m \u001b[39m__call__\u001b[39m(\u001b[39mself\u001b[39m, \u001b[39m*\u001b[39minputs, \u001b[39m*\u001b[39m\u001b[39m*\u001b[39mkwargs):\n\u001b[0;32m---> <a href='file:///opt/homebrew/anaconda3/lib/python3.9/site-packages/gpytorch/module.py?line=29'>30</a>\u001b[0m     outputs \u001b[39m=\u001b[39m \u001b[39mself\u001b[39;49m\u001b[39m.\u001b[39;49mforward(\u001b[39m*\u001b[39;49minputs, \u001b[39m*\u001b[39;49m\u001b[39m*\u001b[39;49mkwargs)\n\u001b[1;32m     <a href='file:///opt/homebrew/anaconda3/lib/python3.9/site-packages/gpytorch/module.py?line=30'>31</a>\u001b[0m     \u001b[39mif\u001b[39;00m \u001b[39misinstance\u001b[39m(outputs, \u001b[39mlist\u001b[39m):\n\u001b[1;32m     <a href='file:///opt/homebrew/anaconda3/lib/python3.9/site-packages/gpytorch/module.py?line=31'>32</a>\u001b[0m         \u001b[39mreturn\u001b[39;00m [_validate_module_outputs(output) \u001b[39mfor\u001b[39;00m output \u001b[39min\u001b[39;00m outputs]\n",
      "File \u001b[0;32m/opt/homebrew/anaconda3/lib/python3.9/site-packages/gpytorch/mlls/exact_marginal_log_likelihood.py:64\u001b[0m, in \u001b[0;36mExactMarginalLogLikelihood.forward\u001b[0;34m(self, function_dist, target, *params)\u001b[0m\n\u001b[1;32m     <a href='file:///opt/homebrew/anaconda3/lib/python3.9/site-packages/gpytorch/mlls/exact_marginal_log_likelihood.py?line=61'>62</a>\u001b[0m \u001b[39m# Get the log prob of the marginal distribution\u001b[39;00m\n\u001b[1;32m     <a href='file:///opt/homebrew/anaconda3/lib/python3.9/site-packages/gpytorch/mlls/exact_marginal_log_likelihood.py?line=62'>63</a>\u001b[0m output \u001b[39m=\u001b[39m \u001b[39mself\u001b[39m\u001b[39m.\u001b[39mlikelihood(function_dist, \u001b[39m*\u001b[39mparams)\n\u001b[0;32m---> <a href='file:///opt/homebrew/anaconda3/lib/python3.9/site-packages/gpytorch/mlls/exact_marginal_log_likelihood.py?line=63'>64</a>\u001b[0m res \u001b[39m=\u001b[39m output\u001b[39m.\u001b[39;49mlog_prob(target)\n\u001b[1;32m     <a href='file:///opt/homebrew/anaconda3/lib/python3.9/site-packages/gpytorch/mlls/exact_marginal_log_likelihood.py?line=64'>65</a>\u001b[0m res \u001b[39m=\u001b[39m \u001b[39mself\u001b[39m\u001b[39m.\u001b[39m_add_other_terms(res, params)\n\u001b[1;32m     <a href='file:///opt/homebrew/anaconda3/lib/python3.9/site-packages/gpytorch/mlls/exact_marginal_log_likelihood.py?line=66'>67</a>\u001b[0m \u001b[39m# Scale by the amount of data we have\u001b[39;00m\n",
      "File \u001b[0;32m/opt/homebrew/anaconda3/lib/python3.9/site-packages/gpytorch/distributions/multivariate_normal.py:168\u001b[0m, in \u001b[0;36mMultivariateNormal.log_prob\u001b[0;34m(self, value)\u001b[0m\n\u001b[1;32m    <a href='file:///opt/homebrew/anaconda3/lib/python3.9/site-packages/gpytorch/distributions/multivariate_normal.py?line=160'>161</a>\u001b[0m         covar \u001b[39m=\u001b[39m covar\u001b[39m.\u001b[39mrepeat(\n\u001b[1;32m    <a href='file:///opt/homebrew/anaconda3/lib/python3.9/site-packages/gpytorch/distributions/multivariate_normal.py?line=161'>162</a>\u001b[0m             \u001b[39m*\u001b[39m(diff_size \u001b[39m/\u001b[39m\u001b[39m/\u001b[39m covar_size \u001b[39mfor\u001b[39;00m diff_size, covar_size \u001b[39min\u001b[39;00m \u001b[39mzip\u001b[39m(diff\u001b[39m.\u001b[39mshape[:\u001b[39m-\u001b[39m\u001b[39m1\u001b[39m], padded_batch_shape)),\n\u001b[1;32m    <a href='file:///opt/homebrew/anaconda3/lib/python3.9/site-packages/gpytorch/distributions/multivariate_normal.py?line=162'>163</a>\u001b[0m             \u001b[39m1\u001b[39m,\n\u001b[1;32m    <a href='file:///opt/homebrew/anaconda3/lib/python3.9/site-packages/gpytorch/distributions/multivariate_normal.py?line=163'>164</a>\u001b[0m             \u001b[39m1\u001b[39m,\n\u001b[1;32m    <a href='file:///opt/homebrew/anaconda3/lib/python3.9/site-packages/gpytorch/distributions/multivariate_normal.py?line=164'>165</a>\u001b[0m         )\n\u001b[1;32m    <a href='file:///opt/homebrew/anaconda3/lib/python3.9/site-packages/gpytorch/distributions/multivariate_normal.py?line=166'>167</a>\u001b[0m \u001b[39m# Get log determininant and first part of quadratic form\u001b[39;00m\n\u001b[0;32m--> <a href='file:///opt/homebrew/anaconda3/lib/python3.9/site-packages/gpytorch/distributions/multivariate_normal.py?line=167'>168</a>\u001b[0m covar \u001b[39m=\u001b[39m covar\u001b[39m.\u001b[39;49mevaluate_kernel()\n\u001b[1;32m    <a href='file:///opt/homebrew/anaconda3/lib/python3.9/site-packages/gpytorch/distributions/multivariate_normal.py?line=168'>169</a>\u001b[0m inv_quad, logdet \u001b[39m=\u001b[39m covar\u001b[39m.\u001b[39minv_quad_logdet(inv_quad_rhs\u001b[39m=\u001b[39mdiff\u001b[39m.\u001b[39munsqueeze(\u001b[39m-\u001b[39m\u001b[39m1\u001b[39m), logdet\u001b[39m=\u001b[39m\u001b[39mTrue\u001b[39;00m)\n\u001b[1;32m    <a href='file:///opt/homebrew/anaconda3/lib/python3.9/site-packages/gpytorch/distributions/multivariate_normal.py?line=170'>171</a>\u001b[0m res \u001b[39m=\u001b[39m \u001b[39m-\u001b[39m\u001b[39m0.5\u001b[39m \u001b[39m*\u001b[39m \u001b[39msum\u001b[39m([inv_quad, logdet, diff\u001b[39m.\u001b[39msize(\u001b[39m-\u001b[39m\u001b[39m1\u001b[39m) \u001b[39m*\u001b[39m math\u001b[39m.\u001b[39mlog(\u001b[39m2\u001b[39m \u001b[39m*\u001b[39m math\u001b[39m.\u001b[39mpi)])\n",
      "File \u001b[0;32m/opt/homebrew/anaconda3/lib/python3.9/site-packages/linear_operator/operators/_linear_operator.py:1455\u001b[0m, in \u001b[0;36mLinearOperator.evaluate_kernel\u001b[0;34m(self)\u001b[0m\n\u001b[1;32m   <a href='file:///opt/homebrew/anaconda3/lib/python3.9/site-packages/linear_operator/operators/_linear_operator.py?line=1449'>1450</a>\u001b[0m \u001b[39mdef\u001b[39;00m \u001b[39mevaluate_kernel\u001b[39m(\u001b[39mself\u001b[39m):\n\u001b[1;32m   <a href='file:///opt/homebrew/anaconda3/lib/python3.9/site-packages/linear_operator/operators/_linear_operator.py?line=1450'>1451</a>\u001b[0m     \u001b[39m\"\"\"\u001b[39;00m\n\u001b[1;32m   <a href='file:///opt/homebrew/anaconda3/lib/python3.9/site-packages/linear_operator/operators/_linear_operator.py?line=1451'>1452</a>\u001b[0m \u001b[39m    Return a new LinearOperator representing the same one as this one, but with\u001b[39;00m\n\u001b[1;32m   <a href='file:///opt/homebrew/anaconda3/lib/python3.9/site-packages/linear_operator/operators/_linear_operator.py?line=1452'>1453</a>\u001b[0m \u001b[39m    all lazily evaluated kernels actually evaluated.\u001b[39;00m\n\u001b[1;32m   <a href='file:///opt/homebrew/anaconda3/lib/python3.9/site-packages/linear_operator/operators/_linear_operator.py?line=1453'>1454</a>\u001b[0m \u001b[39m    \"\"\"\u001b[39;00m\n\u001b[0;32m-> <a href='file:///opt/homebrew/anaconda3/lib/python3.9/site-packages/linear_operator/operators/_linear_operator.py?line=1454'>1455</a>\u001b[0m     \u001b[39mreturn\u001b[39;00m \u001b[39mself\u001b[39;49m\u001b[39m.\u001b[39;49mrepresentation_tree()(\u001b[39m*\u001b[39m\u001b[39mself\u001b[39m\u001b[39m.\u001b[39mrepresentation())\n",
      "File \u001b[0;32m/opt/homebrew/anaconda3/lib/python3.9/site-packages/linear_operator/operators/_linear_operator.py:1944\u001b[0m, in \u001b[0;36mLinearOperator.representation_tree\u001b[0;34m(self)\u001b[0m\n\u001b[1;32m   <a href='file:///opt/homebrew/anaconda3/lib/python3.9/site-packages/linear_operator/operators/_linear_operator.py?line=1933'>1934</a>\u001b[0m \u001b[39mdef\u001b[39;00m \u001b[39mrepresentation_tree\u001b[39m(\u001b[39mself\u001b[39m) \u001b[39m-\u001b[39m\u001b[39m>\u001b[39m LinearOperatorRepresentationTree:\n\u001b[1;32m   <a href='file:///opt/homebrew/anaconda3/lib/python3.9/site-packages/linear_operator/operators/_linear_operator.py?line=1934'>1935</a>\u001b[0m     \u001b[39m\"\"\"\u001b[39;00m\n\u001b[1;32m   <a href='file:///opt/homebrew/anaconda3/lib/python3.9/site-packages/linear_operator/operators/_linear_operator.py?line=1935'>1936</a>\u001b[0m \u001b[39m    Returns a\u001b[39;00m\n\u001b[1;32m   <a href='file:///opt/homebrew/anaconda3/lib/python3.9/site-packages/linear_operator/operators/_linear_operator.py?line=1936'>1937</a>\u001b[0m \u001b[39m    :obj:`linear_operator.operators.LinearOperatorRepresentationTree` tree\u001b[39;00m\n\u001b[0;32m   (...)\u001b[0m\n\u001b[1;32m   <a href='file:///opt/homebrew/anaconda3/lib/python3.9/site-packages/linear_operator/operators/_linear_operator.py?line=1941'>1942</a>\u001b[0m \u001b[39m    including all subobjects. This is used internally.\u001b[39;00m\n\u001b[1;32m   <a href='file:///opt/homebrew/anaconda3/lib/python3.9/site-packages/linear_operator/operators/_linear_operator.py?line=1942'>1943</a>\u001b[0m \u001b[39m    \"\"\"\u001b[39;00m\n\u001b[0;32m-> <a href='file:///opt/homebrew/anaconda3/lib/python3.9/site-packages/linear_operator/operators/_linear_operator.py?line=1943'>1944</a>\u001b[0m     \u001b[39mreturn\u001b[39;00m LinearOperatorRepresentationTree(\u001b[39mself\u001b[39;49m)\n",
      "File \u001b[0;32m/opt/homebrew/anaconda3/lib/python3.9/site-packages/linear_operator/operators/linear_operator_representation_tree.py:13\u001b[0m, in \u001b[0;36mLinearOperatorRepresentationTree.__init__\u001b[0;34m(self, linear_op)\u001b[0m\n\u001b[1;32m     <a href='file:///opt/homebrew/anaconda3/lib/python3.9/site-packages/linear_operator/operators/linear_operator_representation_tree.py?line=10'>11</a>\u001b[0m \u001b[39mfor\u001b[39;00m arg \u001b[39min\u001b[39;00m linear_op\u001b[39m.\u001b[39m_args:\n\u001b[1;32m     <a href='file:///opt/homebrew/anaconda3/lib/python3.9/site-packages/linear_operator/operators/linear_operator_representation_tree.py?line=11'>12</a>\u001b[0m     \u001b[39mif\u001b[39;00m \u001b[39mhasattr\u001b[39m(arg, \u001b[39m\"\u001b[39m\u001b[39mrepresentation\u001b[39m\u001b[39m\"\u001b[39m) \u001b[39mand\u001b[39;00m callable(arg\u001b[39m.\u001b[39mrepresentation):  \u001b[39m# Is it a lazy tensor?\u001b[39;00m\n\u001b[0;32m---> <a href='file:///opt/homebrew/anaconda3/lib/python3.9/site-packages/linear_operator/operators/linear_operator_representation_tree.py?line=12'>13</a>\u001b[0m         representation_size \u001b[39m=\u001b[39m \u001b[39mlen\u001b[39m(arg\u001b[39m.\u001b[39;49mrepresentation())\n\u001b[1;32m     <a href='file:///opt/homebrew/anaconda3/lib/python3.9/site-packages/linear_operator/operators/linear_operator_representation_tree.py?line=13'>14</a>\u001b[0m         \u001b[39mself\u001b[39m\u001b[39m.\u001b[39mchildren\u001b[39m.\u001b[39mappend((\u001b[39mslice\u001b[39m(counter, counter \u001b[39m+\u001b[39m representation_size, \u001b[39mNone\u001b[39;00m), arg\u001b[39m.\u001b[39mrepresentation_tree()))\n\u001b[1;32m     <a href='file:///opt/homebrew/anaconda3/lib/python3.9/site-packages/linear_operator/operators/linear_operator_representation_tree.py?line=14'>15</a>\u001b[0m         counter \u001b[39m+\u001b[39m\u001b[39m=\u001b[39m representation_size\n",
      "File \u001b[0;32m/opt/homebrew/anaconda3/lib/python3.9/site-packages/linear_operator/operators/_linear_operator.py:1928\u001b[0m, in \u001b[0;36mLinearOperator.representation\u001b[0;34m(self)\u001b[0m\n\u001b[1;32m   <a href='file:///opt/homebrew/anaconda3/lib/python3.9/site-packages/linear_operator/operators/_linear_operator.py?line=1925'>1926</a>\u001b[0m     representation\u001b[39m.\u001b[39mappend(arg)\n\u001b[1;32m   <a href='file:///opt/homebrew/anaconda3/lib/python3.9/site-packages/linear_operator/operators/_linear_operator.py?line=1926'>1927</a>\u001b[0m \u001b[39melif\u001b[39;00m \u001b[39mhasattr\u001b[39m(arg, \u001b[39m\"\u001b[39m\u001b[39mrepresentation\u001b[39m\u001b[39m\"\u001b[39m) \u001b[39mand\u001b[39;00m callable(arg\u001b[39m.\u001b[39mrepresentation):  \u001b[39m# Is it a LinearOperator?\u001b[39;00m\n\u001b[0;32m-> <a href='file:///opt/homebrew/anaconda3/lib/python3.9/site-packages/linear_operator/operators/_linear_operator.py?line=1927'>1928</a>\u001b[0m     representation \u001b[39m+\u001b[39m\u001b[39m=\u001b[39m \u001b[39mlist\u001b[39m(arg\u001b[39m.\u001b[39;49mrepresentation())\n\u001b[1;32m   <a href='file:///opt/homebrew/anaconda3/lib/python3.9/site-packages/linear_operator/operators/_linear_operator.py?line=1928'>1929</a>\u001b[0m \u001b[39melse\u001b[39;00m:\n\u001b[1;32m   <a href='file:///opt/homebrew/anaconda3/lib/python3.9/site-packages/linear_operator/operators/_linear_operator.py?line=1929'>1930</a>\u001b[0m     \u001b[39mraise\u001b[39;00m \u001b[39mRuntimeError\u001b[39;00m(\u001b[39m\"\u001b[39m\u001b[39mRepresentation of a LinearOperator should consist only of Tensors\u001b[39m\u001b[39m\"\u001b[39m)\n",
      "File \u001b[0;32m/opt/homebrew/anaconda3/lib/python3.9/site-packages/gpytorch/lazy/lazy_evaluated_kernel_tensor.py:370\u001b[0m, in \u001b[0;36mLazyEvaluatedKernelTensor.representation\u001b[0;34m(self)\u001b[0m\n\u001b[1;32m    <a href='file:///opt/homebrew/anaconda3/lib/python3.9/site-packages/gpytorch/lazy/lazy_evaluated_kernel_tensor.py?line=365'>366</a>\u001b[0m     \u001b[39mreturn\u001b[39;00m \u001b[39msuper\u001b[39m()\u001b[39m.\u001b[39mrepresentation()\n\u001b[1;32m    <a href='file:///opt/homebrew/anaconda3/lib/python3.9/site-packages/gpytorch/lazy/lazy_evaluated_kernel_tensor.py?line=366'>367</a>\u001b[0m \u001b[39m# Otherwise, we'll evaluate the kernel (or at least its LinearOperator representation) and use its\u001b[39;00m\n\u001b[1;32m    <a href='file:///opt/homebrew/anaconda3/lib/python3.9/site-packages/gpytorch/lazy/lazy_evaluated_kernel_tensor.py?line=367'>368</a>\u001b[0m \u001b[39m# representation\u001b[39;00m\n\u001b[1;32m    <a href='file:///opt/homebrew/anaconda3/lib/python3.9/site-packages/gpytorch/lazy/lazy_evaluated_kernel_tensor.py?line=368'>369</a>\u001b[0m \u001b[39melse\u001b[39;00m:\n\u001b[0;32m--> <a href='file:///opt/homebrew/anaconda3/lib/python3.9/site-packages/gpytorch/lazy/lazy_evaluated_kernel_tensor.py?line=369'>370</a>\u001b[0m     \u001b[39mreturn\u001b[39;00m \u001b[39mself\u001b[39;49m\u001b[39m.\u001b[39;49mevaluate_kernel()\u001b[39m.\u001b[39mrepresentation()\n",
      "File \u001b[0;32m/opt/homebrew/anaconda3/lib/python3.9/site-packages/gpytorch/utils/memoize.py:59\u001b[0m, in \u001b[0;36m_cached.<locals>.g\u001b[0;34m(self, *args, **kwargs)\u001b[0m\n\u001b[1;32m     <a href='file:///opt/homebrew/anaconda3/lib/python3.9/site-packages/gpytorch/utils/memoize.py?line=56'>57</a>\u001b[0m kwargs_pkl \u001b[39m=\u001b[39m pickle\u001b[39m.\u001b[39mdumps(kwargs)\n\u001b[1;32m     <a href='file:///opt/homebrew/anaconda3/lib/python3.9/site-packages/gpytorch/utils/memoize.py?line=57'>58</a>\u001b[0m \u001b[39mif\u001b[39;00m \u001b[39mnot\u001b[39;00m _is_in_cache(\u001b[39mself\u001b[39m, cache_name, \u001b[39m*\u001b[39margs, kwargs_pkl\u001b[39m=\u001b[39mkwargs_pkl):\n\u001b[0;32m---> <a href='file:///opt/homebrew/anaconda3/lib/python3.9/site-packages/gpytorch/utils/memoize.py?line=58'>59</a>\u001b[0m     \u001b[39mreturn\u001b[39;00m _add_to_cache(\u001b[39mself\u001b[39m, cache_name, method(\u001b[39mself\u001b[39;49m, \u001b[39m*\u001b[39;49margs, \u001b[39m*\u001b[39;49m\u001b[39m*\u001b[39;49mkwargs), \u001b[39m*\u001b[39margs, kwargs_pkl\u001b[39m=\u001b[39mkwargs_pkl)\n\u001b[1;32m     <a href='file:///opt/homebrew/anaconda3/lib/python3.9/site-packages/gpytorch/utils/memoize.py?line=59'>60</a>\u001b[0m \u001b[39mreturn\u001b[39;00m _get_from_cache(\u001b[39mself\u001b[39m, cache_name, \u001b[39m*\u001b[39margs, kwargs_pkl\u001b[39m=\u001b[39mkwargs_pkl)\n",
      "File \u001b[0;32m/opt/homebrew/anaconda3/lib/python3.9/site-packages/gpytorch/lazy/lazy_evaluated_kernel_tensor.py:329\u001b[0m, in \u001b[0;36mLazyEvaluatedKernelTensor.evaluate_kernel\u001b[0;34m(self)\u001b[0m\n\u001b[1;32m    <a href='file:///opt/homebrew/anaconda3/lib/python3.9/site-packages/gpytorch/lazy/lazy_evaluated_kernel_tensor.py?line=326'>327</a>\u001b[0m     temp_active_dims \u001b[39m=\u001b[39m \u001b[39mself\u001b[39m\u001b[39m.\u001b[39mkernel\u001b[39m.\u001b[39mactive_dims\n\u001b[1;32m    <a href='file:///opt/homebrew/anaconda3/lib/python3.9/site-packages/gpytorch/lazy/lazy_evaluated_kernel_tensor.py?line=327'>328</a>\u001b[0m     \u001b[39mself\u001b[39m\u001b[39m.\u001b[39mkernel\u001b[39m.\u001b[39mactive_dims \u001b[39m=\u001b[39m \u001b[39mNone\u001b[39;00m\n\u001b[0;32m--> <a href='file:///opt/homebrew/anaconda3/lib/python3.9/site-packages/gpytorch/lazy/lazy_evaluated_kernel_tensor.py?line=328'>329</a>\u001b[0m     res \u001b[39m=\u001b[39m \u001b[39mself\u001b[39;49m\u001b[39m.\u001b[39;49mkernel(\n\u001b[1;32m    <a href='file:///opt/homebrew/anaconda3/lib/python3.9/site-packages/gpytorch/lazy/lazy_evaluated_kernel_tensor.py?line=329'>330</a>\u001b[0m         x1,\n\u001b[1;32m    <a href='file:///opt/homebrew/anaconda3/lib/python3.9/site-packages/gpytorch/lazy/lazy_evaluated_kernel_tensor.py?line=330'>331</a>\u001b[0m         x2,\n\u001b[1;32m    <a href='file:///opt/homebrew/anaconda3/lib/python3.9/site-packages/gpytorch/lazy/lazy_evaluated_kernel_tensor.py?line=331'>332</a>\u001b[0m         diag\u001b[39m=\u001b[39;49m\u001b[39mFalse\u001b[39;49;00m,\n\u001b[1;32m    <a href='file:///opt/homebrew/anaconda3/lib/python3.9/site-packages/gpytorch/lazy/lazy_evaluated_kernel_tensor.py?line=332'>333</a>\u001b[0m         last_dim_is_batch\u001b[39m=\u001b[39;49m\u001b[39mself\u001b[39;49m\u001b[39m.\u001b[39;49mlast_dim_is_batch,\n\u001b[1;32m    <a href='file:///opt/homebrew/anaconda3/lib/python3.9/site-packages/gpytorch/lazy/lazy_evaluated_kernel_tensor.py?line=333'>334</a>\u001b[0m         \u001b[39m*\u001b[39;49m\u001b[39m*\u001b[39;49m\u001b[39mself\u001b[39;49m\u001b[39m.\u001b[39;49mparams,\n\u001b[1;32m    <a href='file:///opt/homebrew/anaconda3/lib/python3.9/site-packages/gpytorch/lazy/lazy_evaluated_kernel_tensor.py?line=334'>335</a>\u001b[0m     )\n\u001b[1;32m    <a href='file:///opt/homebrew/anaconda3/lib/python3.9/site-packages/gpytorch/lazy/lazy_evaluated_kernel_tensor.py?line=335'>336</a>\u001b[0m     \u001b[39mself\u001b[39m\u001b[39m.\u001b[39mkernel\u001b[39m.\u001b[39mactive_dims \u001b[39m=\u001b[39m temp_active_dims\n\u001b[1;32m    <a href='file:///opt/homebrew/anaconda3/lib/python3.9/site-packages/gpytorch/lazy/lazy_evaluated_kernel_tensor.py?line=337'>338</a>\u001b[0m \u001b[39m# Check the size of the output\u001b[39;00m\n",
      "File \u001b[0;32m/opt/homebrew/anaconda3/lib/python3.9/site-packages/gpytorch/kernels/kernel.py:408\u001b[0m, in \u001b[0;36mKernel.__call__\u001b[0;34m(self, x1, x2, diag, last_dim_is_batch, **params)\u001b[0m\n\u001b[1;32m    <a href='file:///opt/homebrew/anaconda3/lib/python3.9/site-packages/gpytorch/kernels/kernel.py?line=404'>405</a>\u001b[0m     res \u001b[39m=\u001b[39m LazyEvaluatedKernelTensor(x1_, x2_, kernel\u001b[39m=\u001b[39m\u001b[39mself\u001b[39m, last_dim_is_batch\u001b[39m=\u001b[39mlast_dim_is_batch, \u001b[39m*\u001b[39m\u001b[39m*\u001b[39mparams)\n\u001b[1;32m    <a href='file:///opt/homebrew/anaconda3/lib/python3.9/site-packages/gpytorch/kernels/kernel.py?line=405'>406</a>\u001b[0m \u001b[39melse\u001b[39;00m:\n\u001b[1;32m    <a href='file:///opt/homebrew/anaconda3/lib/python3.9/site-packages/gpytorch/kernels/kernel.py?line=406'>407</a>\u001b[0m     res \u001b[39m=\u001b[39m to_linear_operator(\n\u001b[0;32m--> <a href='file:///opt/homebrew/anaconda3/lib/python3.9/site-packages/gpytorch/kernels/kernel.py?line=407'>408</a>\u001b[0m         \u001b[39msuper\u001b[39;49m(Kernel, \u001b[39mself\u001b[39;49m)\u001b[39m.\u001b[39;49m\u001b[39m__call__\u001b[39;49m(x1_, x2_, last_dim_is_batch\u001b[39m=\u001b[39;49mlast_dim_is_batch, \u001b[39m*\u001b[39;49m\u001b[39m*\u001b[39;49mparams)\n\u001b[1;32m    <a href='file:///opt/homebrew/anaconda3/lib/python3.9/site-packages/gpytorch/kernels/kernel.py?line=408'>409</a>\u001b[0m     )\n\u001b[1;32m    <a href='file:///opt/homebrew/anaconda3/lib/python3.9/site-packages/gpytorch/kernels/kernel.py?line=409'>410</a>\u001b[0m \u001b[39mreturn\u001b[39;00m res\n",
      "File \u001b[0;32m/opt/homebrew/anaconda3/lib/python3.9/site-packages/gpytorch/module.py:30\u001b[0m, in \u001b[0;36mModule.__call__\u001b[0;34m(self, *inputs, **kwargs)\u001b[0m\n\u001b[1;32m     <a href='file:///opt/homebrew/anaconda3/lib/python3.9/site-packages/gpytorch/module.py?line=28'>29</a>\u001b[0m \u001b[39mdef\u001b[39;00m \u001b[39m__call__\u001b[39m(\u001b[39mself\u001b[39m, \u001b[39m*\u001b[39minputs, \u001b[39m*\u001b[39m\u001b[39m*\u001b[39mkwargs):\n\u001b[0;32m---> <a href='file:///opt/homebrew/anaconda3/lib/python3.9/site-packages/gpytorch/module.py?line=29'>30</a>\u001b[0m     outputs \u001b[39m=\u001b[39m \u001b[39mself\u001b[39;49m\u001b[39m.\u001b[39;49mforward(\u001b[39m*\u001b[39;49minputs, \u001b[39m*\u001b[39;49m\u001b[39m*\u001b[39;49mkwargs)\n\u001b[1;32m     <a href='file:///opt/homebrew/anaconda3/lib/python3.9/site-packages/gpytorch/module.py?line=30'>31</a>\u001b[0m     \u001b[39mif\u001b[39;00m \u001b[39misinstance\u001b[39m(outputs, \u001b[39mlist\u001b[39m):\n\u001b[1;32m     <a href='file:///opt/homebrew/anaconda3/lib/python3.9/site-packages/gpytorch/module.py?line=31'>32</a>\u001b[0m         \u001b[39mreturn\u001b[39;00m [_validate_module_outputs(output) \u001b[39mfor\u001b[39;00m output \u001b[39min\u001b[39;00m outputs]\n",
      "File \u001b[0;32m~/LowPrecisionApproxGP/LowPrecisionApproxGP/model/inducing_point_kernel.py:137\u001b[0m, in \u001b[0;36mVarPrecisionInducingPointKernel.forward\u001b[0;34m(self, x1, x2, diag, **kwargs)\u001b[0m\n\u001b[1;32m    <a href='file:///Users/giulio/LowPrecisionApproxGP/LowPrecisionApproxGP/model/inducing_point_kernel.py?line=133'>134</a>\u001b[0m \u001b[39mdef\u001b[39;00m \u001b[39mforward\u001b[39m(\u001b[39mself\u001b[39m, x1, x2, diag\u001b[39m=\u001b[39m\u001b[39mFalse\u001b[39;00m, \u001b[39m*\u001b[39m\u001b[39m*\u001b[39mkwargs):\n\u001b[1;32m    <a href='file:///Users/giulio/LowPrecisionApproxGP/LowPrecisionApproxGP/model/inducing_point_kernel.py?line=134'>135</a>\u001b[0m     \u001b[39m# TODO: See if this conversion is necessary\u001b[39;00m\n\u001b[1;32m    <a href='file:///Users/giulio/LowPrecisionApproxGP/LowPrecisionApproxGP/model/inducing_point_kernel.py?line=135'>136</a>\u001b[0m     x1, x2 \u001b[39m=\u001b[39m x1\u001b[39m.\u001b[39mtype(\u001b[39mself\u001b[39m\u001b[39m.\u001b[39m_dtype_to_set), x2\u001b[39m.\u001b[39mtype(\u001b[39mself\u001b[39m\u001b[39m.\u001b[39m_dtype_to_set)\n\u001b[0;32m--> <a href='file:///Users/giulio/LowPrecisionApproxGP/LowPrecisionApproxGP/model/inducing_point_kernel.py?line=136'>137</a>\u001b[0m     covar \u001b[39m=\u001b[39m \u001b[39mself\u001b[39;49m\u001b[39m.\u001b[39;49m_get_covariance(x1, x2)\u001b[39m.\u001b[39mto(\u001b[39mself\u001b[39m\u001b[39m.\u001b[39m_dtype_to_set)\n\u001b[1;32m    <a href='file:///Users/giulio/LowPrecisionApproxGP/LowPrecisionApproxGP/model/inducing_point_kernel.py?line=138'>139</a>\u001b[0m     \u001b[39mif\u001b[39;00m \u001b[39mself\u001b[39m\u001b[39m.\u001b[39mtraining:\n\u001b[1;32m    <a href='file:///Users/giulio/LowPrecisionApproxGP/LowPrecisionApproxGP/model/inducing_point_kernel.py?line=139'>140</a>\u001b[0m         \u001b[39mif\u001b[39;00m \u001b[39mnot\u001b[39;00m torch\u001b[39m.\u001b[39mequal(x1, x2):\n",
      "File \u001b[0;32m~/LowPrecisionApproxGP/LowPrecisionApproxGP/model/inducing_point_kernel.py:99\u001b[0m, in \u001b[0;36mVarPrecisionInducingPointKernel._get_covariance\u001b[0;34m(self, x1, x2)\u001b[0m\n\u001b[1;32m     <a href='file:///Users/giulio/LowPrecisionApproxGP/LowPrecisionApproxGP/model/inducing_point_kernel.py?line=91'>92</a>\u001b[0m k_ux1 \u001b[39m=\u001b[39m to_dense(\n\u001b[1;32m     <a href='file:///Users/giulio/LowPrecisionApproxGP/LowPrecisionApproxGP/model/inducing_point_kernel.py?line=92'>93</a>\u001b[0m     \u001b[39mself\u001b[39m\u001b[39m.\u001b[39mbase_kernel(\n\u001b[1;32m     <a href='file:///Users/giulio/LowPrecisionApproxGP/LowPrecisionApproxGP/model/inducing_point_kernel.py?line=93'>94</a>\u001b[0m         x1,\n\u001b[1;32m     <a href='file:///Users/giulio/LowPrecisionApproxGP/LowPrecisionApproxGP/model/inducing_point_kernel.py?line=94'>95</a>\u001b[0m         \u001b[39mself\u001b[39m\u001b[39m.\u001b[39minducing_points,\n\u001b[1;32m     <a href='file:///Users/giulio/LowPrecisionApproxGP/LowPrecisionApproxGP/model/inducing_point_kernel.py?line=95'>96</a>\u001b[0m     )\n\u001b[1;32m     <a href='file:///Users/giulio/LowPrecisionApproxGP/LowPrecisionApproxGP/model/inducing_point_kernel.py?line=96'>97</a>\u001b[0m )\u001b[39m.\u001b[39mto(\u001b[39mself\u001b[39m\u001b[39m.\u001b[39m_dtype_to_set)\n\u001b[1;32m     <a href='file:///Users/giulio/LowPrecisionApproxGP/LowPrecisionApproxGP/model/inducing_point_kernel.py?line=97'>98</a>\u001b[0m \u001b[39mif\u001b[39;00m torch\u001b[39m.\u001b[39mequal(x1, x2):\n\u001b[0;32m---> <a href='file:///Users/giulio/LowPrecisionApproxGP/LowPrecisionApproxGP/model/inducing_point_kernel.py?line=98'>99</a>\u001b[0m     covar \u001b[39m=\u001b[39m LowRankRootLinearOperator(k_ux1\u001b[39m.\u001b[39;49mmatmul(\u001b[39mself\u001b[39;49m\u001b[39m.\u001b[39;49m_inducing_inv_root))\n\u001b[1;32m    <a href='file:///Users/giulio/LowPrecisionApproxGP/LowPrecisionApproxGP/model/inducing_point_kernel.py?line=100'>101</a>\u001b[0m     \u001b[39m# Diagonal correction for predictive posterior\u001b[39;00m\n\u001b[1;32m    <a href='file:///Users/giulio/LowPrecisionApproxGP/LowPrecisionApproxGP/model/inducing_point_kernel.py?line=101'>102</a>\u001b[0m     \u001b[39mif\u001b[39;00m \u001b[39mnot\u001b[39;00m \u001b[39mself\u001b[39m\u001b[39m.\u001b[39mtraining \u001b[39mand\u001b[39;00m settings\u001b[39m.\u001b[39msgpr_diagonal_correction\u001b[39m.\u001b[39mon():\n",
      "\u001b[0;31mRuntimeError\u001b[0m: expected scalar type Double but found Float"
>>>>>>> 04118e8 (Working on things)
     ]
    }
   ],
   "source": [
    "dtype = torch.float64\n",
    "# Create Likelihood / Model\n",
    "likelihood = gpytorch.likelihoods.GaussianLikelihood()\n",
    "model = ExactGPModel(train_x, train_y, likelihood, dtype)\n",
    "mll = gpytorch.mlls.ExactMarginalLogLikelihood(likelihood,model)\n",
    "\n",
    "# Set to training mode\n",
    "model.train()\n",
    "likelihood.train()\n",
    "\n",
    "# Use the adam optimizer\n",
    "optimizer = torch.optim.Adam(model.parameters(), lr=0.1)  # Includes GaussianLikelihood parameters\n",
    "# Train Model\n",
<<<<<<< HEAD
    "model = greedy_train((train_x,train_y), model, mll,max_inducing_points,training_iter,dtype=torch.float16,Use_Max=True,J=20,max_Js=10)"
=======
    "model = greedy_train((train_x,train_y), model, mll,max_inducing_points,training_iter)"
>>>>>>> 04118e8 (Working on things)
   ]
  },
  {
   "cell_type": "code",
<<<<<<< HEAD
   "execution_count": 5,
   "metadata": {
    "pycharm": {
     "name": "#%%\n"
    }
   },
   "outputs": [
    {
     "data": {
      "text/plain": "Parameter containing:\ntensor([[0.4848],\n        [0.5253],\n        [0.4949],\n        [0.5455]])"
     },
     "execution_count": 5,
=======
   "execution_count": null,
   "metadata": {},
   "outputs": [],
   "source": [
    "model.covar_module.inducing_points.dtype"
   ]
  },
  {
   "cell_type": "code",
   "execution_count": null,
   "metadata": {},
   "outputs": [],
   "source": [
    "torch.double"
   ]
  },
  {
   "cell_type": "code",
   "execution_count": 12,
   "metadata": {},
   "outputs": [
    {
     "data": {
      "text/plain": [
       "ScaleKernel(\n",
       "  (base_kernel): RBFKernel(\n",
       "    (raw_lengthscale_constraint): Positive()\n",
       "    (distance_module): Distance()\n",
       "  )\n",
       "  (raw_outputscale_constraint): Positive()\n",
       ")"
      ]
     },
     "execution_count": 12,
>>>>>>> 04118e8 (Working on things)
     "metadata": {},
     "output_type": "execute_result"
    }
   ],
   "source": [
<<<<<<< HEAD
    "model.covar_module.inducing_points"
=======
    "model.covar_module.base_kernel"
   ]
  },
  {
   "cell_type": "code",
   "execution_count": 14,
   "metadata": {},
   "outputs": [
    {
     "data": {
      "text/plain": [
       "RBFKernel(\n",
       "  (raw_lengthscale_constraint): Positive()\n",
       ")"
      ]
     },
     "execution_count": 14,
     "metadata": {},
     "output_type": "execute_result"
    }
   ],
   "source": [
    "gpytorch.kernels.RBFKernel()"
>>>>>>> 04118e8 (Working on things)
   ]
  },
  {
   "cell_type": "code",
   "execution_count": null,
   "metadata": {
    "pycharm": {
     "name": "#%%\n",
     "is_executing": true
    }
   },
   "outputs": [],
   "source": [
    "import matplotlib.pyplot as plt\n",
    "\n",
    "plt.plot(train_x.numpy(),train_y.numpy())"
   ]
  },
  {
   "cell_type": "code",
   "execution_count": null,
   "metadata": {
    "pycharm": {
     "name": "#%%\n"
    }
   },
   "outputs": [],
   "source": []
  },
  {
   "cell_type": "code",
   "execution_count": null,
   "metadata": {
    "pycharm": {
     "name": "#%%\n"
    }
   },
   "outputs": [],
   "source": []
  },
  {
   "cell_type": "code",
   "execution_count": null,
   "metadata": {
    "pycharm": {
     "name": "#%%\n"
    }
   },
   "outputs": [],
   "source": []
  }
 ],
 "metadata": {
  "interpreter": {
   "hash": "38cca0c38332a56087b24af0bc80247f4fced29cb4f7f437d91dc159adec9c4e"
  },
  "kernelspec": {
   "display_name": "Python 3 (ipykernel)",
   "language": "python",
   "name": "python3"
  },
  "language_info": {
   "codemirror_mode": {
    "name": "ipython",
    "version": 3
   },
   "file_extension": ".py",
   "mimetype": "text/x-python",
   "name": "python",
   "nbconvert_exporter": "python",
   "pygments_lexer": "ipython3",
   "version": "3.9.15"
  }
 },
 "nbformat": 4,
 "nbformat_minor": 2
}