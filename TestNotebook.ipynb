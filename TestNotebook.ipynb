{
 "cells": [
  {
   "cell_type": "code",
   "execution_count": null,
   "metadata": {
    "pycharm": {
     "name": "#%%\n"
    }
   },
   "outputs": [],
   "source": [
    "import gpytorch\n",
    "import torch\n",
    "from LowPrecisionApproxGP import KERNEL_FACTORY, DATASET_FACTORY\n",
    "from LowPrecisionApproxGP.util.GreedyTrain import greedy_train\n",
    "from LowPrecisionApproxGP.model.models import VarPrecisionModel\n",
    "from LowPrecisionApproxGP import load_bikes, load_road3d, load_energy, load_naval, load_protein"
   ]
  },
  {
   "cell_type": "code",
   "execution_count": null,
   "metadata": {
    "pycharm": {
     "name": "#%%\n"
    }
   },
   "outputs": [],
   "source": [
    "# # This is for baseline model, Vanilla Exact GP Model\n",
    "# class ExactGPModel(gpytorch.models.ExactGP):\n",
    "#     def __init__(self, train_x, train_y, likelihood):\n",
    "#         super(ExactGPModel, self).__init__(train_x, train_y, likelihood)\n",
    "#         self.mean_module = gpytorch.means.ConstantMean()\n",
    "#         self.covar_module = gpytorch.kernels.ScaleKernel(gpytorch.kernels.RBFKernel())\n",
    "\n",
    "#     def forward(self, x):\n",
    "#         mean_x = self.mean_module(x)\n",
    "#         covar_x = self.covar_module(x)\n",
    "#         return gpytorch.distributions.MultivariateNormal(mean_x, covar_x)"
   ]
  },
  {
   "cell_type": "code",
   "execution_count": null,
   "metadata": {
    "pycharm": {
     "name": "#%%\n"
    }
   },
   "outputs": [],
   "source": [
    "# Params to tweak when running experiments\n",
    "dtype = torch.float32\n",
    "kwargs = {\n",
    "    \"training_iter\": 50,\n",
    "    \"max_inducing_points\": 50,\n",
    "    \"Model Name\" : \"JupyterNotebookModel\",\n",
    "    \"dtype\":dtype,\n",
    "    \"use_max\" : True,\n",
    "    \"j\" : 10,\n",
    "    \"max_js\": 5,\n",
    "}"
   ]
  },
  {
   "cell_type": "code",
   "execution_count": null,
   "metadata": {
    "pycharm": {
     "name": "#%%\n"
    }
   },
   "outputs": [],
   "source": [
    "# Load bikes dataset as dtype / tensor\n",
    "train_data, test_data = load_bikes(dtype) # Make sure you download data first\n",
    "train_x, train_y = train_data\n",
    "test_x, test_y = test_data\n",
    "\n",
    "# Create Likelihood / Model\n",
    "base_kernel = KERNEL_FACTORY[\"base\"] # Just Vanilla Base Kernel (Scale * RBF kernel)\n",
    "likelihood = gpytorch.likelihoods.GaussianLikelihood()\n",
    "model = VarPrecisionModel(train_x, train_y, likelihood, dtype, gpytorch.means.ConstantMean(), base_kernel())\n",
    "mll = gpytorch.mlls.ExactMarginalLogLikelihood(likelihood,model)\n",
    "\n",
    "# Set to training mode\n",
    "model.train()\n",
    "likelihood.train()\n"
   ]
  },
  {
   "cell_type": "code",
   "execution_count": null,
   "metadata": {
    "pycharm": {
     "name": "#%%\n"
    }
   },
   "outputs": [],
   "source": [
    "# Train\n",
    "greedy_train(\n",
    "        train_data=(train_x, train_y),\n",
    "        model=model,\n",
    "        mll=mll,\n",
    "        max_iter=kwargs.get(\"training_iter\"),\n",
    "        max_inducing_points=kwargs.get(\"max_inducing_points\"),\n",
    "        model_name=kwargs.get(\"Model Name\"),\n",
    "        dtype=kwargs.get(\"dtype\"),\n",
    "        use_max=kwargs.get(\"use_max\"),\n",
    "        j=kwargs.get(\"j\"),\n",
    "        max_js=kwargs.get(\"max_js\"),\n",
    "    )"
   ]
  },
  {
   "cell_type": "code",
   "execution_count": null,
   "metadata": {
    "pycharm": {
     "name": "#%%\n"
    }
   },
   "outputs": [],
   "source": [
    "# Eval Performance\n",
    "model.eval()\n",
    "likelihood.eval()\n",
    "\n",
    "with torch.no_grad():\n",
    "    trained_pred_dist = likelihood(model(test_x))\n",
    "    predictive_mean = trained_pred_dist.mean\n",
    "    lower, upper = trained_pred_dist.confidence_region()\n",
    "\n",
    "final_msll = gpytorch.metrics.mean_standardized_log_loss(trained_pred_dist, test_y)\n",
    "final_mse = gpytorch.metrics.mean_squared_error(\n",
    "    trained_pred_dist, test_y, squared=True\n",
    ")\n",
    "\n",
    "final_mae = gpytorch.metrics.mean_absolute_error(trained_pred_dist, test_y)\n",
    "print(f\"Mean_Standardized_Log_Test_Loss:{final_msll}\")\n",
    "print(f\"Mean_Squared_Test_Error:{final_mse}\")\n",
    "print(f\"Mean_Absolute_Test_Error:{final_mae}\")"
   ]
  }
 ],
 "metadata": {
  "interpreter": {
   "hash": "38cca0c38332a56087b24af0bc80247f4fced29cb4f7f437d91dc159adec9c4e"
  },
  "kernelspec": {
   "display_name": "Python 3 (ipykernel)",
   "language": "python",
   "name": "python3"
  },
  "language_info": {
   "codemirror_mode": {
    "name": "ipython",
    "version": 3
   },
   "file_extension": ".py",
   "mimetype": "text/x-python",
   "name": "python",
   "nbconvert_exporter": "python",
   "pygments_lexer": "ipython3",
   "version": "3.9.13"
  }
 },
 "nbformat": 4,
 "nbformat_minor": 2
}