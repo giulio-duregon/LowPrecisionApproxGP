{
 "cells": [
  {
   "cell_type": "code",
   "execution_count": 2,
   "metadata": {
    "pycharm": {
     "name": "#%%\n"
    }
   },
   "outputs": [],
   "source": [
    "import gpytorch\n",
    "import torch\n",
    "from LowPrecisionApproxGP import KERNEL_FACTORY\n",
    "from LowPrecisionApproxGP.util.GreedyTrain import greedy_train\n",
    "from LowPrecisionApproxGP.model.models import VarPrecisionModel\n",
    "from LowPrecisionApproxGP import load_bikes, load_road3d\n",
    "import numpy as np\n",
    "import matplotlib.pyplot as plt\n",
    "import numpy.linalg as LA"
   ]
  },
  {
   "cell_type": "code",
   "execution_count": 3,
   "metadata": {
    "pycharm": {
     "name": "#%%\n"
    }
   },
   "outputs": [],
   "source": [
    "# # This is for baseline model, Vanilla Exact GP Model\n",
    "# class ExactGPModel(gpytorch.models.ExactGP):\n",
    "#     def __init__(self, train_x, train_y, likelihood):\n",
    "#         super(ExactGPModel, self).__init__(train_x, train_y, likelihood)\n",
    "#         self.mean_module = gpytorch.means.ConstantMean()\n",
    "#         self.covar_module = gpytorch.kernels.ScaleKernel(gpytorch.kernels.RBFKernel())\n",
    "\n",
    "#     def forward(self, x):\n",
    "#         mean_x = self.mean_module(x)\n",
    "#         covar_x = self.covar_module(x)\n",
    "#         return gpytorch.distributions.MultivariateNormal(mean_x, covar_x)"
   ]
  },
  {
   "cell_type": "code",
   "execution_count": 34,
   "metadata": {
    "pycharm": {
     "name": "#%%\n"
    }
   },
   "outputs": [],
   "source": [
    "# Params to tweak when running experiments\n",
    "\n",
    "dtype = torch.float64\n",
    "kwargs = {\n",
    "    \"training_iter\": 50,\n",
    "    \"max_inducing_points\": 50,\n",
    "    \"Model Name\" : \"JupyterNotebookModel\",\n",
    "    \"dtype\":dtype,\n",
    "    \"use_max\" : True,\n",
    "    \"j\" : 100,\n",
    "    \"max_js\": 5,\n",
    "}"
   ]
  },
  {
   "cell_type": "code",
   "execution_count": 35,
   "metadata": {
    "pycharm": {
     "name": "#%%\n"
    }
   },
   "outputs": [
    {
     "data": {
      "text/plain": [
       "GaussianLikelihood(\n",
       "  (noise_covar): HomoskedasticNoise(\n",
       "    (raw_noise_constraint): GreaterThan(1.000E-04)\n",
       "  )\n",
       ")"
      ]
     },
     "execution_count": 35,
     "metadata": {},
     "output_type": "execute_result"
    }
   ],
   "source": [
    "# Load bikes dataset as dtype / tensor\n",
    "train_data, test_data = load_bikes(dtype) # Make sure you download data first\n",
    "train_x, train_y = train_data\n",
    "test_x, test_y = test_data\n",
    "\n",
    "# Create Likelihood / Model\n",
    "base_kernel = KERNEL_FACTORY[\"base\"] # Just Vanilla Base Kernel (Scale * RBF kernel)\n",
    "likelihood = gpytorch.likelihoods.GaussianLikelihood()\n",
    "model = VarPrecisionModel(train_x, train_y, likelihood, dtype, gpytorch.means.ConstantMean(), base_kernel())\n",
    "mll = gpytorch.mlls.ExactMarginalLogLikelihood(likelihood,model)\n",
    "\n",
    "# Set to training mode\n",
    "model.train()\n",
    "likelihood.train()\n"
   ]
  },
  {
   "cell_type": "code",
   "execution_count": 36,
   "metadata": {
    "pycharm": {
     "name": "#%%\n"
    }
   },
   "outputs": [
    {
     "name": "stdout",
     "output_type": "stream",
     "text": [
      "13903\n"
     ]
    }
   ],
   "source": [
    "print(len(train_x))"
   ]
  },
  {
   "cell_type": "code",
   "execution_count": 37,
   "metadata": {
    "pycharm": {
     "name": "#%%\n"
    }
   },
   "outputs": [
    {
     "name": "stdout",
     "output_type": "stream",
     "text": [
      "Getting logger\n",
      "1\n",
      "2\n",
      "3\n",
      "4\n",
      "5\n",
      "6\n",
      "7\n",
      "8\n",
      "9\n",
      "10\n",
      "11\n",
      "12\n",
      "13\n",
      "14\n",
      "15\n",
      "16\n",
      "17\n",
      "18\n",
      "19\n",
      "20\n",
      "21\n",
      "22\n",
      "23\n",
      "24\n",
      "25\n",
      "26\n",
      "27\n",
      "28\n",
      "29\n",
      "30\n",
      "31\n",
      "32\n",
      "33\n",
      "34\n",
      "35\n",
      "36\n",
      "37\n",
      "38\n",
      "39\n",
      "40\n",
      "41\n",
      "42\n",
      "43\n",
      "44\n",
      "45\n",
      "46\n",
      "47\n",
      "48\n",
      "49\n"
     ]
    },
    {
     "data": {
      "text/plain": [
       "VarPrecisionModel(\n",
       "  (likelihood): GaussianLikelihood(\n",
       "    (noise_covar): HomoskedasticNoise(\n",
       "      (raw_noise_constraint): GreaterThan(1.000E-04)\n",
       "    )\n",
       "  )\n",
       "  (mean_module): ConstantMean()\n",
       "  (covar_module): VarPrecisionInducingPointKernel(\n",
       "    (base_kernel): ScaleKernel(\n",
       "      (base_kernel): RBFKernel(\n",
       "        (raw_lengthscale_constraint): Positive()\n",
       "        (distance_module): Distance()\n",
       "      )\n",
       "      (raw_outputscale_constraint): Positive()\n",
       "    )\n",
       "    (likelihood): GaussianLikelihood(\n",
       "      (noise_covar): HomoskedasticNoise(\n",
       "        (raw_noise_constraint): GreaterThan(1.000E-04)\n",
       "      )\n",
       "    )\n",
       "  )\n",
       ")"
      ]
     },
     "execution_count": 37,
     "metadata": {},
     "output_type": "execute_result"
    }
   ],
   "source": [
    "# Train\n",
    "greedy_train(\n",
    "        train_data=(train_x, train_y),\n",
    "        model=model,\n",
    "        mll=mll,\n",
    "        max_iter=kwargs.get(\"training_iter\"),\n",
    "        max_inducing_points=kwargs.get(\"max_inducing_points\"),\n",
    "        model_name=kwargs.get(\"Model Name\"),\n",
    "        dtype=kwargs.get(\"dtype\"),\n",
    "        use_max=kwargs.get(\"use_max\"),\n",
    "        j=kwargs.get(\"j\"),\n",
    "        max_js=kwargs.get(\"max_js\"),\n",
    "    )"
   ]
  },
  {
   "cell_type": "code",
   "execution_count": 38,
   "metadata": {
    "pycharm": {
     "name": "#%%\n"
    }
   },
   "outputs": [
    {
     "name": "stdout",
     "output_type": "stream",
     "text": [
      "Mean_Standardized_Log_Test_Loss:1690.8630534094557\n",
      "Mean_Squared_Test_Error:56556.41878591334\n",
      "Mean_Absolute_Test_Error:163.55339135509078\n"
     ]
    }
   ],
   "source": [
    "# Eval Performance\n",
    "model.eval()\n",
    "likelihood.eval()\n",
    "\n",
    "with torch.no_grad():\n",
    "    trained_pred_dist = likelihood(model(test_x))\n",
    "    predictive_mean = trained_pred_dist.mean\n",
    "    lower, upper = trained_pred_dist.confidence_region()\n",
    "\n",
    "final_msll = gpytorch.metrics.mean_standardized_log_loss(trained_pred_dist, test_y)\n",
    "final_mse = gpytorch.metrics.mean_squared_error(\n",
    "    trained_pred_dist, test_y, squared=True\n",
    ")\n",
    "\n",
    "final_mae = gpytorch.metrics.mean_absolute_error(trained_pred_dist, test_y)\n",
    "print(f\"Mean_Standardized_Log_Test_Loss:{final_msll}\")\n",
    "print(f\"Mean_Squared_Test_Error:{final_mse}\")\n",
    "print(f\"Mean_Absolute_Test_Error:{final_mae}\")"
   ]
  },
  {
   "cell_type": "code",
   "execution_count": 39,
   "metadata": {
    "pycharm": {
     "name": "#%%\n"
    }
   },
   "outputs": [],
   "source": [
    "covar_mat1 = model.covar_module._inducing_mat.numpy()\n",
    "\n",
    "mat = np.matrix(covar_mat1)\n",
    "name = \"Matrices/\" + str(kwargs.get(\"training_iter\")) + \"_\" + str(kwargs.get(\"dtype\")) + \"_\" + str(kwargs.get(\"use_max\")) + \"_\" + str(kwargs.get(\"j\")) + \"_\" + str(kwargs.get(\"max_js\"))\n",
    "nametxt = \"Matrices/\" + str(kwargs.get(\"training_iter\")) + \"_\" + str(kwargs.get(\"dtype\")) + \"_\" + str(kwargs.get(\"use_max\")) + \"_\" + str(kwargs.get(\"j\")) + \"_\" + str(kwargs.get(\"max_js\")) + \".txt\"\n",
    "\n",
    "\n",
    "np.save(name, mat)\n",
    "np.savetxt(nametxt, mat)"
   ]
  },
  {
   "cell_type": "code",
   "execution_count": 40,
   "metadata": {
    "pycharm": {
     "name": "#%%\n"
    }
   },
   "outputs": [],
   "source": [
    "dtype2 = torch.float32\n",
    "kwargs2 = {\n",
    "    \"training_iter\": 50,\n",
    "    \"max_inducing_points\": 50,\n",
    "    \"Model Name\" : \"JupyterNotebookModel\",\n",
    "    \"dtype\":dtype2,\n",
    "    \"use_max\" : True,\n",
    "    \"j\" : 100,\n",
    "    \"max_js\": 5,\n",
    "}\n",
    "\n",
    "name2 = \"Matrices/\" + str(kwargs2.get(\"training_iter\")) + \"_\" + str(kwargs2.get(\"dtype\")) + \"_\" + str(kwargs2.get(\"use_max\")) + \"_\" + str(kwargs2.get(\"j\")) + \"_\" + str(kwargs2.get(\"max_js\")) + \".npy\"\n",
    "mat2 = np.load(name2)"
   ]
  },
  {
   "cell_type": "code",
   "execution_count": 42,
   "metadata": {
    "pycharm": {
     "name": "#%%\n"
    }
   },
   "outputs": [
    {
     "name": "stderr",
     "output_type": "stream",
     "text": [
      "C:\\Users\\PaulQuantum\\AppData\\Local\\Temp\\ipykernel_24356\\348611055.py:3: RuntimeWarning: divide by zero encountered in log\n",
      "  axs[0].matshow(np.log(model.covar_module._inducing_mat.numpy()),cmap=\"Purples\")\n",
      "C:\\Users\\PaulQuantum\\AppData\\Local\\Temp\\ipykernel_24356\\348611055.py:4: RuntimeWarning: divide by zero encountered in log\n",
      "  axs[1].matshow(np.log(mat2),cmap=\"Purples\")\n"
     ]
    },
    {
     "ename": "NameError",
     "evalue": "name 'mpl' is not defined",
     "output_type": "error",
     "traceback": [
      "\u001B[1;31m---------------------------------------------------------------------------\u001B[0m",
      "\u001B[1;31mNameError\u001B[0m                                 Traceback (most recent call last)",
      "\u001B[1;32m~\\AppData\\Local\\Temp\\ipykernel_24356\\348611055.py\u001B[0m in \u001B[0;36m<module>\u001B[1;34m\u001B[0m\n\u001B[0;32m      5\u001B[0m \u001B[1;33m\u001B[0m\u001B[0m\n\u001B[0;32m      6\u001B[0m \u001B[1;33m\u001B[0m\u001B[0m\n\u001B[1;32m----> 7\u001B[1;33m cmap = (mpl.colors.ListedColormap(['white', 'green'])\n\u001B[0m\u001B[0;32m      8\u001B[0m         .with_extremes(over='0.25', under='0.75'))\n\u001B[0;32m      9\u001B[0m \u001B[1;33m\u001B[0m\u001B[0m\n",
      "\u001B[1;31mNameError\u001B[0m: name 'mpl' is not defined"
     ]
    },
    {
     "data": {
      "image/png": "[encoded data removed]",
      "text/plain": [
       "<Figure size 640x480 with 2 Axes>"
      ]
     },
     "metadata": {},
     "output_type": "display_data"
    }
   ],
   "source": [
    "fig,axs = plt.subplots(1,2)\n",
    "\n",
    "axs[0].matshow(np.log(model.covar_module._inducing_mat.numpy()),cmap=\"Purples\")\n",
    "axs[1].matshow(np.log(mat2),cmap=\"Purples\")\n",
    "\n",
    "axs[0].set_title(\"Double Precision\")\n",
    "axs[1].set_title(\"Single Precision\")\n",
    "\n",
    "fig.suptitle(\"Covariance Matrix Element Logarithm Scale\")\n"
   ]
  },
  {
   "cell_type": "code",
   "execution_count": 33,
   "metadata": {
    "pycharm": {
     "name": "#%%\n"
    }
   },
   "outputs": [
    {
     "data": {
      "text/plain": [
       "[<matplotlib.lines.Line2D at 0x272aa865af0>]"
      ]
     },
     "execution_count": 33,
     "metadata": {},
     "output_type": "execute_result"
    },
    {
     "data": {
      "image/png": "[encoded data removed]",
      "text/plain": [
       "<Figure size 640x480 with 1 Axes>"
      ]
     },
     "metadata": {},
     "output_type": "display_data"
    }
   ],
   "source": [
    "eigval1,eigvec1 = LA.eig(mat)\n",
    "eigval2,eigvec2 = LA.eig(mat2)\n",
    "\n",
    "eigval1 = np.sort(eigval1)\n",
    "eigval2 = np.sort(eigval2)\n",
    "\n",
    "plt.plot(eigval1)\n",
    "plt.plot(eigval2)"
   ]
  },
  {
   "cell_type": "code",
   "execution_count": 220,
   "metadata": {
    "pycharm": {
     "name": "#%%\n"
    }
   },
   "outputs": [
    {
     "data": {
      "text/plain": [
       "[<matplotlib.lines.Line2D at 0x1ccc6cb71c0>]"
      ]
     },
     "execution_count": 220,
     "metadata": {},
     "output_type": "execute_result"
    },
    {
     "data": {
      "image/png": "[encoded data removed]",
      "text/plain": [
       "<Figure size 640x480 with 1 Axes>"
      ]
     },
     "metadata": {},
     "output_type": "display_data"
    }
   ],
   "source": []
  },
  {
   "cell_type": "code",
   "execution_count": null,
   "metadata": {
    "pycharm": {
     "name": "#%%\n"
    }
   },
   "outputs": [],
   "source": []
  },
  {
   "cell_type": "code",
   "execution_count": null,
   "metadata": {
    "pycharm": {
     "name": "#%%\n"
    }
   },
   "outputs": [],
   "source": []
  }
 ],
 "metadata": {
  "interpreter": {
   "hash": "38cca0c38332a56087b24af0bc80247f4fced29cb4f7f437d91dc159adec9c4e"
  },
  "kernelspec": {
   "display_name": "Python 3 (ipykernel)",
   "language": "python",
   "name": "python3"
  },
  "language_info": {
   "codemirror_mode": {
    "name": "ipython",
    "version": 3
   },
   "file_extension": ".py",
   "mimetype": "text/x-python",
   "name": "python",
   "nbconvert_exporter": "python",
   "pygments_lexer": "ipython3",
   "version": "3.9.15"
  }
 },
 "nbformat": 4,
 "nbformat_minor": 2
}