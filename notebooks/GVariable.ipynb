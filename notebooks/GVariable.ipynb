{
 "cells": [
  {
   "cell_type": "code",
   "execution_count": 365,
   "metadata": {},
   "outputs": [],
   "source": [
    "import gpytorch\n",
    "from gpytorch.kernels import ScaleKernel, RBFKernel, InducingPointKernel\n",
    "import torch\n",
    "from tqdm import tqdm\n",
    "import numpy as np \n",
    "from torch.utils.data import TensorDataset, DataLoader\n",
    "\n",
    "# This will control precision of Symeig / Cholenski Lin Alg Operations\n",
    "gpytorch.settings.linalg_dtypes(default=torch.float16)\n",
    "#TODO: How to ensure that all operations, data, etc. follow this precision constraint?\n",
    "\n",
    "# Sample code for Batch Learning\n",
    "def get_DataLoaders(train_x, train_y, test_x, test_y):\n",
    "    train_dataset = TensorDataset(train_x, train_y)\n",
    "    train_loader = DataLoader(train_dataset, batch_size=500, shuffle=True)\n",
    "\n",
    "    test_dataset = TensorDataset(test_x, test_y)\n",
    "    test_loader = DataLoader(test_dataset, batch_size=500, shuffle=False)\n",
    "    return train_loader, test_loader\n",
    "\n",
    "def train_and_test_approximate_gp(model_cls, train_x, train_y, test_y, train_loader, test_loader, num_epochs):\n",
    "    inducing_points = torch.randn(128, train_x.size(-1), dtype=train_x.dtype, device=train_x.device)\n",
    "    model = model_cls(inducing_points)\n",
    "    \n",
    "    # Likelihood\n",
    "    likelihood = gpytorch.likelihoods.GaussianLikelihood()\n",
    "    # Objective -> Variational Inference Uses ELBO\n",
    "    mll = gpytorch.mlls.VariationalELBO(likelihood, model, num_data=train_y.numel())\n",
    "    optimizer = torch.optim.Adam(list(model.parameters()) + list(likelihood.parameters()), lr=0.1)\n",
    "\n",
    "    if torch.cuda.is_available():\n",
    "        model = model.cuda()\n",
    "        likelihood = likelihood.cuda()\n",
    "\n",
    "    # Training\n",
    "    model.train()\n",
    "    likelihood.train()\n",
    "    \n",
    "    # TQDM is just a progress bar for training\n",
    "    epochs_iter = tqdm.notebook.tqdm(range(num_epochs), desc=f\"Training {model_cls.__name__}\")\n",
    "    \n",
    "    for i in epochs_iter:\n",
    "        # Within each iteration, we will go over each minibatch of data\n",
    "        for x_batch, y_batch in train_loader:\n",
    "            optimizer.zero_grad()\n",
    "            output = model(x_batch)\n",
    "            loss = -mll(output, y_batch)\n",
    "            epochs_iter.set_postfix(loss=loss.item())\n",
    "            loss.backward()\n",
    "            optimizer.step()\n",
    "\n",
    "    # Testing\n",
    "    model.eval()\n",
    "    likelihood.eval()\n",
    "    means = torch.tensor([0.])\n",
    "    with torch.no_grad():\n",
    "        for x_batch, y_batch in test_loader:\n",
    "            preds = model(x_batch)\n",
    "            means = torch.cat([means, preds.mean.cpu()])\n",
    "    means = means[1:]\n",
    "    error = torch.mean(torch.abs(means - test_y.cpu()))\n",
    "    print(f\"Test {model_cls.__name__} MAE: {error.item()}\")"
   ]
  },
  {
   "cell_type": "code",
   "execution_count": 366,
   "metadata": {},
   "outputs": [],
   "source": [
    "# Extends ApproximateGP\n",
    "class StandardApproximateGP(gpytorch.models.ApproximateGP):\n",
    "    def __init__(self, inducing_points):\n",
    "        # Needs a Variational Distribution + Variation Strategy\n",
    "        #TODO: Which ones do we need to implmenet?\n",
    "        variational_distribution = gpytorch.variational.CholeskyVariationalDistribution(inducing_points.size(-2))\n",
    "        variational_strategy = gpytorch.variational.VariationalStrategy(\n",
    "            self, inducing_points, variational_distribution, learn_inducing_locations=True\n",
    "        )\n",
    "        super().__init__(variational_strategy) # Pass strategy upwards\n",
    "        \n",
    "        # Then Kernel and Mean as Normal\n",
    "        self.mean_module = gpytorch.means.ConstantMean()\n",
    "        self.covar_module = gpytorch.kernels.ScaleKernel(gpytorch.kernels.RBFKernel())\n",
    "\n",
    "    def forward(self, x):\n",
    "        mean_x = self.mean_module(x)\n",
    "        covar_x = self.covar_module(x)\n",
    "        return gpytorch.distributions.MultivariateNormal(mean_x, covar_x)"
   ]
  },
  {
   "cell_type": "code",
   "execution_count": 367,
   "metadata": {},
   "outputs": [],
   "source": [
    "import math\n",
    "train_x = torch.linspace(0, 1, 100)\n",
    "# True function is sin(2*pi*x) with Gaussian noise\n",
    "train_y = torch.sin(train_x * (2 * math.pi)) + torch.randn(train_x.size()) * math.sqrt(0.04)"
   ]
  },
  {
   "cell_type": "code",
   "execution_count": 368,
   "metadata": {},
   "outputs": [],
   "source": [
    "class ExactGPModel(gpytorch.models.ExactGP):\n",
    "    def __init__(self, train_x, train_y, likelihood):\n",
    "        super(ExactGPModel, self).__init__(train_x, train_y, likelihood)\n",
    "        self.mean_module = gpytorch.means.ConstantMean()\n",
    "        self.covar_module = InducingPointKernel(gpytorch.kernels.ScaleKernel(gpytorch.kernels.RBFKernel()), inducing_points=torch.empty(1), likelihood=likelihood)\n",
    "\n",
    "    def forward(self, x):\n",
    "        mean_x = self.mean_module(x)\n",
    "        covar_x = self.covar_module(x)\n",
    "        return gpytorch.distributions.MultivariateNormal(mean_x, covar_x)\n",
    "\n",
    "# initialize likelihood and model"
   ]
  },
  {
   "cell_type": "code",
   "execution_count": 369,
   "metadata": {},
   "outputs": [],
   "source": [
    "def greedy_select_points(model, inducing_point_candidates, train_x, train_y, mll):\n",
    "    \"\"\"\n",
    "    Inplace Addition of Inducing Point\n",
    "    \n",
    "    Output: inducing_point_candidates - Tensor | Returns remaining candidate set of inducing points\n",
    "    \"\"\"\n",
    "    # TODO: Fix Potential dimension errors\n",
    "    # look at .resize(), torch.cat, len(train)\n",
    "    # TODO: Pop train_x_copy index\n",
    "    # Get current MLL\n",
    "\n",
    "    random_indices = np.random.permutation(len(inducing_point_candidates))\n",
    "    inducing_points = model.covar_module.inducing_points\n",
    "    \n",
    "    # Get MLL from current inducing points\n",
    "    with torch.no_grad():\n",
    "            output = model(train_x)\n",
    "            current_model_mll = mll(output, train_y)\n",
    "\n",
    "    # While we haven't found a point\n",
    "    for index in random_indices:\n",
    "        rnd = inducing_point_candidates[index].resize(1) # TODO: Make this better\n",
    "        \n",
    "        # Grab a point at random, calculate its likelihood\n",
    "        temp = torch.cat((inducing_points, rnd),dim=0)\n",
    "        \n",
    "        # Update the inducing point kernel\n",
    "        model.covar_module.inducing_points = torch.nn.Parameter(temp,requires_grad=False)\n",
    "\n",
    "        # Get MLL for model with candidate inducing point\n",
    "        with torch.no_grad(): \n",
    "            rnd_point_mll = mll(model(train_x), train_y)\n",
    "\n",
    "        # If we've increased our likelihood, we've found our point\n",
    "        if rnd_point_mll > current_model_mll:\n",
    "            # Catch edge case where we grab the last index\n",
    "            if index == len(inducing_point_candidates) +1:\n",
    "                return inducing_point_candidates[0:index]\n",
    "            else:\n",
    "                return torch.cat((train_x_copy[0:index], train_x_copy[index+1:]),dim=0) \n",
    "\n",
    "        \n",
    "    # If we couldn't increase our likelihood, get rid of the last appended inducing point\n",
    "    model.covar_module.inducing_points = torch.nn.Parameter(temp[:-1],requires_grad=False)\n",
    "    return None"
   ]
  },
  {
   "cell_type": "code",
   "execution_count": 370,
   "metadata": {},
   "outputs": [
    {
     "ename": "RuntimeError",
     "evalue": "You must train on the training inputs!",
     "output_type": "error",
     "traceback": [
      "\u001b[0;31m---------------------------------------------------------------------------\u001b[0m",
      "\u001b[0;31mRuntimeError\u001b[0m                              Traceback (most recent call last)",
      "\u001b[1;32m/Users/giulio/LowPrecisionApproxGP/notebooks/GVariable.ipynb Cell 6'\u001b[0m in \u001b[0;36m<cell line: 11>\u001b[0;34m()\u001b[0m\n\u001b[1;32m      <a href='vscode-notebook-cell:/Users/giulio/LowPrecisionApproxGP/notebooks/GVariable.ipynb#ch0000004?line=8'>9</a>\u001b[0m model\u001b[39m.\u001b[39mcovar_module\u001b[39m.\u001b[39minducing_points \u001b[39m=\u001b[39m torch\u001b[39m.\u001b[39mnn\u001b[39m.\u001b[39mParameter(inducing_points,requires_grad\u001b[39m=\u001b[39m\u001b[39mFalse\u001b[39;00m)\n\u001b[1;32m     <a href='vscode-notebook-cell:/Users/giulio/LowPrecisionApproxGP/notebooks/GVariable.ipynb#ch0000004?line=9'>10</a>\u001b[0m train_x_copy \u001b[39m=\u001b[39m train_x\u001b[39m.\u001b[39mdetach()\u001b[39m.\u001b[39mclone()\n\u001b[0;32m---> <a href='vscode-notebook-cell:/Users/giulio/LowPrecisionApproxGP/notebooks/GVariable.ipynb#ch0000004?line=10'>11</a>\u001b[0m train_x_copy \u001b[39m=\u001b[39m greedy_select_points(model,train_x_copy, train_x, train_y, mll)\n",
      "\u001b[1;32m/Users/giulio/LowPrecisionApproxGP/notebooks/GVariable.ipynb Cell 5'\u001b[0m in \u001b[0;36mgreedy_select_points\u001b[0;34m(model, inducing_point_candidates, train_x, train_y, mll)\u001b[0m\n\u001b[1;32m     <a href='vscode-notebook-cell:/Users/giulio/LowPrecisionApproxGP/notebooks/GVariable.ipynb#ch0000023?line=14'>15</a>\u001b[0m \u001b[39m# Get MLL from current inducing points\u001b[39;00m\n\u001b[1;32m     <a href='vscode-notebook-cell:/Users/giulio/LowPrecisionApproxGP/notebooks/GVariable.ipynb#ch0000023?line=15'>16</a>\u001b[0m \u001b[39mwith\u001b[39;00m torch\u001b[39m.\u001b[39mno_grad():\n\u001b[0;32m---> <a href='vscode-notebook-cell:/Users/giulio/LowPrecisionApproxGP/notebooks/GVariable.ipynb#ch0000023?line=16'>17</a>\u001b[0m         output \u001b[39m=\u001b[39m model(train_x)\n\u001b[1;32m     <a href='vscode-notebook-cell:/Users/giulio/LowPrecisionApproxGP/notebooks/GVariable.ipynb#ch0000023?line=17'>18</a>\u001b[0m         current_model_mll \u001b[39m=\u001b[39m mll(output, train_y)\n\u001b[1;32m     <a href='vscode-notebook-cell:/Users/giulio/LowPrecisionApproxGP/notebooks/GVariable.ipynb#ch0000023?line=19'>20</a>\u001b[0m \u001b[39m# While we haven't found a point\u001b[39;00m\n",
      "File \u001b[0;32m/opt/homebrew/anaconda3/lib/python3.9/site-packages/gpytorch/models/exact_gp.py:256\u001b[0m, in \u001b[0;36mExactGP.__call__\u001b[0;34m(self, *args, **kwargs)\u001b[0m\n\u001b[1;32m    <a href='file:///opt/homebrew/anaconda3/lib/python3.9/site-packages/gpytorch/models/exact_gp.py?line=253'>254</a>\u001b[0m \u001b[39mif\u001b[39;00m settings\u001b[39m.\u001b[39mdebug\u001b[39m.\u001b[39mon():\n\u001b[1;32m    <a href='file:///opt/homebrew/anaconda3/lib/python3.9/site-packages/gpytorch/models/exact_gp.py?line=254'>255</a>\u001b[0m     \u001b[39mif\u001b[39;00m \u001b[39mnot\u001b[39;00m \u001b[39mall\u001b[39m(torch\u001b[39m.\u001b[39mequal(train_input, \u001b[39minput\u001b[39m) \u001b[39mfor\u001b[39;00m train_input, \u001b[39minput\u001b[39m \u001b[39min\u001b[39;00m \u001b[39mzip\u001b[39m(train_inputs, inputs)):\n\u001b[0;32m--> <a href='file:///opt/homebrew/anaconda3/lib/python3.9/site-packages/gpytorch/models/exact_gp.py?line=255'>256</a>\u001b[0m         \u001b[39mraise\u001b[39;00m \u001b[39mRuntimeError\u001b[39;00m(\u001b[39m\"\u001b[39m\u001b[39mYou must train on the training inputs!\u001b[39m\u001b[39m\"\u001b[39m)\n\u001b[1;32m    <a href='file:///opt/homebrew/anaconda3/lib/python3.9/site-packages/gpytorch/models/exact_gp.py?line=256'>257</a>\u001b[0m res \u001b[39m=\u001b[39m \u001b[39msuper\u001b[39m()\u001b[39m.\u001b[39m\u001b[39m__call__\u001b[39m(\u001b[39m*\u001b[39minputs, \u001b[39m*\u001b[39m\u001b[39m*\u001b[39mkwargs)\n\u001b[1;32m    <a href='file:///opt/homebrew/anaconda3/lib/python3.9/site-packages/gpytorch/models/exact_gp.py?line=257'>258</a>\u001b[0m \u001b[39mreturn\u001b[39;00m res\n",
      "\u001b[0;31mRuntimeError\u001b[0m: You must train on the training inputs!"
     ]
    }
   ],
   "source": [
    "likelihood = gpytorch.likelihoods.GaussianLikelihood()\n",
    "model = ExactGPModel(train_x, train_y, likelihood)\n",
    "mll = gpytorch.mlls.ExactMarginalLogLikelihood(likelihood,model)\n",
    "model.train()\n",
    "likelihood.train()\n",
    "\n",
    "train_x = train_x.type(torch.float16)\n",
    "inducing_points = train_x\n",
    "model.covar_module.inducing_points = torch.nn.Parameter(inducing_points,requires_grad=False)\n",
    "train_x_copy = train_x.detach().clone()\n",
    "train_x_copy = greedy_select_points(model,train_x_copy, train_x, train_y, mll)"
   ]
  },
  {
   "cell_type": "code",
   "execution_count": 383,
   "metadata": {},
   "outputs": [],
   "source": [
    "likelihood = gpytorch.likelihoods.GaussianLikelihood()\n",
    "model = ExactGPModel(train_x, train_y, likelihood)\n",
    "mll = gpytorch.mlls.ExactMarginalLogLikelihood(likelihood,model)\n",
    "model.train()\n",
    "likelihood.train()\n",
    "\n",
    "# Use the adam optimizer\n",
    "optimizer = torch.optim.Adam(model.parameters(), lr=0.1)  # Includes GaussianLikelihood parameters\n",
    "\n",
    "# \"Loss\" for GPs - the marginal log likelihood\n",
    "max_inducing_points = 1000\n",
    "inducing_point_candidates = train_x.detach().clone()\n",
    "training_iter = 1000\n",
    "\n",
    "for i in range(max_inducing_points):\n",
    "    # If haven't gotten any inducing points, grab a random one\n",
    "    if len(inducing_point_candidates) == len(train_x):\n",
    "        random_index = np.random.randint(0, len(train_x))\n",
    "        first_inducing_point = train_x[random_index].detach().clone().resize(1) # Get\n",
    "        model.covar_module.inducing_points = torch.nn.Parameter(first_inducing_point, requires_grad=False) # Set\n",
    "        # Remove Selected Point from candidate set\n",
    "        inducing_point_candidates = torch.cat((inducing_point_candidates[:random_index], inducing_point_candidates[random_index + 1 :]),dim=0)\n",
    "        \n",
    "    elif len(model.covar_module.inducing_points) >= max_inducing_points:\n",
    "        print(f\"Reached limit of inducing points: we have {len(model.covar_module.inducing_points)} points with a maximum of {max_inducing_points}\")\n",
    "        break    \n",
    "    else:\n",
    "        inducing_point_candidates = greedy_select_points(model,inducing_point_candidates,train_x,train_y,mll)\n",
    "        if inducing_point_candidates is not None:\n",
    "            continue\n",
    "        else:\n",
    "            # We've failed to find a point that increases our Likelihood\n",
    "            break\n",
    "        \n",
    "    # Zero gradients from previous iteration\n",
    "    optimizer.zero_grad()\n",
    "    mll.zero_grad()\n",
    "    # Output from model\n",
    "    output = model(train_x)\n",
    "    # Calc loss and backprop gradients\n",
    "    loss = -mll(output, train_y)\n",
    "    loss.backward()\n",
    "\n",
    "    optimizer.step()"
   ]
  },
  {
   "cell_type": "code",
   "execution_count": 384,
   "metadata": {},
   "outputs": [
    {
     "data": {
      "text/plain": [
       "Parameter containing:\n",
       "tensor([0.0707, 0.7979, 0.0808, 0.5151, 0.7881, 0.1313, 0.3838],\n",
       "       dtype=torch.float16)"
      ]
     },
     "execution_count": 384,
     "metadata": {},
     "output_type": "execute_result"
    }
   ],
   "source": [
    "model.covar_module.inducing_points"
   ]
  },
  {
   "cell_type": "code",
   "execution_count": 385,
   "metadata": {},
   "outputs": [
    {
     "data": {
      "text/plain": [
       "tensor(1.3313, grad_fn=<NegBackward0>)"
      ]
     },
     "execution_count": 385,
     "metadata": {},
     "output_type": "execute_result"
    }
   ],
   "source": [
    "loss"
   ]
  },
  {
   "cell_type": "code",
   "execution_count": null,
   "metadata": {},
   "outputs": [],
   "source": []
  }
 ],
 "metadata": {
  "interpreter": {
   "hash": "38cca0c38332a56087b24af0bc80247f4fced29cb4f7f437d91dc159adec9c4e"
  },
  "kernelspec": {
   "display_name": "Python 3.9.13 ('base')",
   "language": "python",
   "name": "python3"
  },
  "language_info": {
   "codemirror_mode": {
    "name": "ipython",
    "version": 3
   },
   "file_extension": ".py",
   "mimetype": "text/x-python",
   "name": "python",
   "nbconvert_exporter": "python",
   "pygments_lexer": "ipython3",
   "version": "3.9.13"
  },
  "orig_nbformat": 4
 },
 "nbformat": 4,
 "nbformat_minor": 2
}
