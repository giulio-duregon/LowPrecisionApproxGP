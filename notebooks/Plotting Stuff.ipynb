{
 "cells": [
  {
   "cell_type": "code",
   "execution_count": 2,
   "id": "f2783daf",
   "metadata": {
    "pycharm": {
     "name": "#%%\n"
    }
   },
   "outputs": [],
   "source": [
    "import matplotlib.pyplot as plt\n",
    "import torch\n",
    "import numpy as np\n",
    "import numpy.linalg as LA"
   ]
  },
  {
   "cell_type": "code",
   "execution_count": 3,
   "id": "5a64fe6c",
   "metadata": {
    "pycharm": {
     "name": "#%%\n"
    }
   },
   "outputs": [],
   "source": [
    "dtype1 = torch.float32\n",
    "kwargs1 = {\n",
    "    \"training_iter\": 50,\n",
    "    \"max_inducing_points\": 50,\n",
    "    \"Model Name\" : \"JupyterNotebookModel\",\n",
    "    \"dtype\":dtype1,\n",
    "    \"use_max\" : False,\n",
    "    \"j\" : 100,\n",
    "    \"max_js\": 5,\n",
    "}\n",
    "\n",
    "dtype2 = torch.float64\n",
    "kwargs2 = {\n",
    "    \"training_iter\": 50,\n",
    "    \"max_inducing_points\": 50,\n",
    "    \"Model Name\" : \"JupyterNotebookModel\",\n",
    "    \"dtype\":dtype2,\n",
    "    \"use_max\" : True,\n",
    "    \"j\" : 100,\n",
    "    \"max_js\": 5,\n",
    "}\n"
   ]
  },
  {
   "cell_type": "code",
   "execution_count": 4,
   "id": "3d644b0a",
   "metadata": {
    "pycharm": {
     "name": "#%%\n"
    }
   },
   "outputs": [],
   "source": [
    "name1 = \"../Matrices/\" + str(kwargs1.get(\"training_iter\")) + \"_\" + str(kwargs1.get(\"dtype\")) + \"_\" + str(kwargs1.get(\"use_max\")) + \"_\" + str(kwargs1.get(\"j\")) + \"_\" + str(kwargs1.get(\"max_js\")) + \".txt\"\n",
    "mat1 = np.loadtxt(name1)"
   ]
  },
  {
   "cell_type": "code",
   "execution_count": 7,
   "id": "537d5385",
   "metadata": {
    "pycharm": {
     "name": "#%%\n"
    }
   },
   "outputs": [
    {
     "name": "stdout",
     "output_type": "stream",
     "text": [
      "[[5.06881905e+00 0.00000000e+00 2.19572926e+00 ... 0.00000000e+00\n",
      "  1.24048173e+00 0.00000000e+00]\n",
      " [0.00000000e+00 5.06881905e+00 0.00000000e+00 ... 0.00000000e+00\n",
      "  0.00000000e+00 7.10873632e-04]\n",
      " [2.19572926e+00 0.00000000e+00 5.06881905e+00 ... 0.00000000e+00\n",
      "  3.16836834e-01 0.00000000e+00]\n",
      " ...\n",
      " [0.00000000e+00 0.00000000e+00 0.00000000e+00 ... 5.06881905e+00\n",
      "  0.00000000e+00 0.00000000e+00]\n",
      " [1.24051964e+00 0.00000000e+00 3.16832006e-01 ... 0.00000000e+00\n",
      "  5.06881905e+00 0.00000000e+00]\n",
      " [0.00000000e+00 7.10873632e-04 0.00000000e+00 ... 0.00000000e+00\n",
      "  0.00000000e+00 5.06881905e+00]]\n"
     ]
    }
   ],
   "source": [
    "print(mat1)"
   ]
  },
  {
   "cell_type": "code",
   "execution_count": 13,
   "id": "48db9f3b",
   "metadata": {
    "pycharm": {
     "name": "#%%\n"
    }
   },
   "outputs": [],
   "source": [
    "name2 = \"../Matrices/\" + str(kwargs2.get(\"training_iter\")) + \"_\" + str(kwargs2.get(\"dtype\")) + \"_\" + str(kwargs2.get(\"use_max\")) + \"_\" + str(kwargs2.get(\"j\")) + \"_\" + str(kwargs2.get(\"max_js\")) + \".npy\"\n",
    "mat2 = np.loadtxt(name2)"
   ]
  },
  {
   "cell_type": "code",
   "execution_count": 1,
   "id": "1a7e7c2d",
   "metadata": {
    "pycharm": {
     "name": "#%%\n"
    }
   },
   "outputs": [
    {
     "ename": "NameError",
     "evalue": "name 'LA' is not defined",
     "output_type": "error",
     "traceback": [
      "\u001B[1;31m---------------------------------------------------------------------------\u001B[0m",
      "\u001B[1;31mNameError\u001B[0m                                 Traceback (most recent call last)",
      "\u001B[1;32m~\\AppData\\Local\\Temp\\ipykernel_30244\\273011831.py\u001B[0m in \u001B[0;36m<module>\u001B[1;34m\u001B[0m\n\u001B[1;32m----> 1\u001B[1;33m \u001B[0meigval1\u001B[0m\u001B[1;33m,\u001B[0m\u001B[0meigvec1\u001B[0m \u001B[1;33m=\u001B[0m \u001B[0mLA\u001B[0m\u001B[1;33m.\u001B[0m\u001B[0meig\u001B[0m\u001B[1;33m(\u001B[0m\u001B[0mmat1\u001B[0m\u001B[1;33m)\u001B[0m\u001B[1;33m\u001B[0m\u001B[1;33m\u001B[0m\u001B[0m\n\u001B[0m\u001B[0;32m      2\u001B[0m \u001B[1;31m#eigval2,eigvec2 = LA.eig(mat2)\u001B[0m\u001B[1;33m\u001B[0m\u001B[1;33m\u001B[0m\u001B[0m\n\u001B[0;32m      3\u001B[0m \u001B[1;33m\u001B[0m\u001B[0m\n\u001B[0;32m      4\u001B[0m \u001B[0meigval1\u001B[0m \u001B[1;33m=\u001B[0m \u001B[0mnp\u001B[0m\u001B[1;33m.\u001B[0m\u001B[0msort\u001B[0m\u001B[1;33m(\u001B[0m\u001B[0meigval1\u001B[0m\u001B[1;33m)\u001B[0m\u001B[1;33m\u001B[0m\u001B[1;33m\u001B[0m\u001B[0m\n\u001B[0;32m      5\u001B[0m \u001B[1;31m#eigval2 = np.sort(eigval2)\u001B[0m\u001B[1;33m\u001B[0m\u001B[1;33m\u001B[0m\u001B[0m\n",
      "\u001B[1;31mNameError\u001B[0m: name 'LA' is not defined"
     ]
    }
   ],
   "source": [
    "eigval1,eigvec1 = LA.eig(mat1)\n",
    "#eigval2,eigvec2 = LA.eig(mat2)\n",
    "\n",
    "eigval1 = np.sort(eigval1)\n",
    "#eigval2 = np.sort(eigval2)\n",
    "\n",
    "plt.plot(eigval1)\n",
    "#plt.plot(eigval2)"
   ]
  },
  {
   "cell_type": "code",
   "execution_count": null,
   "id": "f42bd053",
   "metadata": {
    "pycharm": {
     "name": "#%%\n"
    }
   },
   "outputs": [
    {
     "name": "stdout",
     "output_type": "stream",
     "text": [
      "../Matrices/50_torch.float32_True_100_5.npy\n"
     ]
    }
   ],
   "source": [
    "name1 = \"../Matrices/\" + str(kwargs1.get(\"training_iter\")) + \"_\" + str(kwargs1.get(\"dtype\")) + \"_\" + str(kwargs1.get(\"use_max\")) + \"_\" + str(kwargs1.get(\"j\")) + \"_\" + str(kwargs1.get(\"max_js\")) + \".npy\"\n",
    "name2 = \"../Matrices/\" + str(kwargs2.get(\"training_iter\")) + \"_\" + str(kwargs2.get(\"dtype\")) + \"_\" + str(kwargs2.get(\"use_max\")) + \"_\" + str(kwargs2.get(\"j\")) + \"_\" + str(kwargs2.get(\"max_js\")) + \".npy\"\n",
    "\n",
    "print(name1)\n",
    "\n",
    "mat1 = np.load(name1)\n",
    "mat2 = np.load(name2)\n",
    "\n",
    "\n",
    "plt.matshow(mat1,cmap=\"Purples\")\n",
    "\n",
    "print(name1)\n",
    "\n",
    "plt.matshow(mat2,cmap=\"Purples\")\n",
    "#ax1.title(\"Single Precision\")\n",
    "#ax2.title(\"Double Precision\")\n"
   ]
  },
  {
   "cell_type": "code",
   "execution_count": null,
   "id": "4d627276",
   "metadata": {
    "pycharm": {
     "name": "#%%\n"
    }
   },
   "outputs": [],
   "source": []
  },
  {
   "cell_type": "code",
   "execution_count": null,
   "id": "36dd99c6",
   "metadata": {
    "pycharm": {
     "name": "#%%\n"
    }
   },
   "outputs": [],
   "source": []
  }
 ],
 "metadata": {
  "kernelspec": {
   "display_name": "Python 3 (ipykernel)",
   "language": "python",
   "name": "python3"
  },
  "language_info": {
   "codemirror_mode": {
    "name": "ipython",
    "version": 3
   },
   "file_extension": ".py",
   "mimetype": "text/x-python",
   "name": "python",
   "nbconvert_exporter": "python",
   "pygments_lexer": "ipython3",
   "version": "3.9.15"
  }
 },
 "nbformat": 4,
 "nbformat_minor": 5
}